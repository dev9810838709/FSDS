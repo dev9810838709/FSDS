{
 "cells": [
  {
   "cell_type": "code",
   "execution_count": 2,
   "id": "29d83111",
   "metadata": {},
   "outputs": [],
   "source": [
    "a = 1\n",
    "b = 10"
   ]
  },
  {
   "cell_type": "code",
   "execution_count": 3,
   "id": "ceb590f4",
   "metadata": {},
   "outputs": [
    {
     "name": "stdout",
     "output_type": "stream",
     "text": [
      "1\n",
      "3\n",
      "5\n",
      "7\n",
      "9\n",
      "print this\n"
     ]
    }
   ],
   "source": [
    "while a <= b :\n",
    "    print(a)\n",
    "    a = a+2\n",
    "else :\n",
    "    print(\"print this\")"
   ]
  },
  {
   "cell_type": "code",
   "execution_count": 4,
   "id": "9fea1367",
   "metadata": {},
   "outputs": [
    {
     "name": "stdout",
     "output_type": "stream",
     "text": [
      "1\n",
      "2\n",
      "3\n",
      "4\n",
      "5\n"
     ]
    }
   ],
   "source": [
    "a = 1\n",
    "b = 10\n",
    "while a < 10 :\n",
    "    print(a)\n",
    "    if a == 5 :\n",
    "        break\n",
    "    a = a+1\n",
    "else :\n",
    "    print(\"print this\")"
   ]
  },
  {
   "cell_type": "code",
   "execution_count": 5,
   "id": "c65d901a",
   "metadata": {},
   "outputs": [
    {
     "name": "stdout",
     "output_type": "stream",
     "text": [
      "print this\n"
     ]
    }
   ],
   "source": [
    "a = 11\n",
    "b = 10\n",
    "while a < 10 :\n",
    "    print(a)\n",
    "    if a == 5 :\n",
    "        break\n",
    "    a = a+1\n",
    "else :\n",
    "    print(\"print this\")"
   ]
  },
  {
   "cell_type": "code",
   "execution_count": 7,
   "id": "b99b217c",
   "metadata": {},
   "outputs": [
    {
     "name": "stdout",
     "output_type": "stream",
     "text": [
      "2\n",
      "4\n",
      "5\n",
      "6\n",
      "7\n",
      "8\n",
      "9\n",
      "10\n"
     ]
    }
   ],
   "source": [
    "a = 1\n",
    "b = 10\n",
    "while a < b :\n",
    "    a = a+1\n",
    "    if a ==3 :\n",
    "        continue\n",
    "    print(a)"
   ]
  },
  {
   "cell_type": "code",
   "execution_count": 8,
   "id": "f99d39c8",
   "metadata": {},
   "outputs": [],
   "source": [
    "l = [1,2,3,4,65,56]"
   ]
  },
  {
   "cell_type": "code",
   "execution_count": 9,
   "id": "b925ecc9",
   "metadata": {},
   "outputs": [
    {
     "name": "stdout",
     "output_type": "stream",
     "text": [
      "1\n",
      "2\n",
      "3\n",
      "4\n",
      "65\n",
      "56\n"
     ]
    }
   ],
   "source": [
    "for i in l :\n",
    "    print(i)"
   ]
  },
  {
   "cell_type": "code",
   "execution_count": 10,
   "id": "6f6cacc3",
   "metadata": {},
   "outputs": [
    {
     "name": "stdout",
     "output_type": "stream",
     "text": [
      "1\n",
      "2\n",
      "3\n",
      "4\n",
      "65\n",
      "56\n"
     ]
    }
   ],
   "source": [
    "a = 0\n",
    "while a <len(l) :\n",
    "    print(l[a])\n",
    "    a = a+1"
   ]
  },
  {
   "cell_type": "code",
   "execution_count": 2,
   "id": "86b01c57",
   "metadata": {},
   "outputs": [],
   "source": [
    "t = (3,4,5,6,7,8,9)"
   ]
  },
  {
   "cell_type": "code",
   "execution_count": 3,
   "id": "da901fd2",
   "metadata": {},
   "outputs": [
    {
     "name": "stdout",
     "output_type": "stream",
     "text": [
      "3\n",
      "4\n"
     ]
    }
   ],
   "source": [
    "a = 0\n",
    "while a < len(t) :\n",
    "    if t[a] == 6 or t[a] == 7 :\n",
    "        print(a)\n",
    "    a = a+1"
   ]
  },
  {
   "cell_type": "code",
   "execution_count": null,
   "id": "ea98d202",
   "metadata": {},
   "outputs": [],
   "source": [
    "to find index"
   ]
  },
  {
   "cell_type": "code",
   "execution_count": 4,
   "id": "8b202e35",
   "metadata": {},
   "outputs": [],
   "source": [
    "t = (3,4,5,6,7,8,9)"
   ]
  },
  {
   "cell_type": "code",
   "execution_count": 6,
   "id": "6a03c5a4",
   "metadata": {},
   "outputs": [
    {
     "name": "stdout",
     "output_type": "stream",
     "text": [
      "-3\n",
      "-4\n"
     ]
    }
   ],
   "source": [
    "a = -1\n",
    "while a >=-len(t) :\n",
    "    if t[a] == 6 or t[a] == 7 :\n",
    "        print(a)\n",
    "    a = a-1"
   ]
  },
  {
   "cell_type": "code",
   "execution_count": 8,
   "id": "daf2a919",
   "metadata": {},
   "outputs": [],
   "source": [
    "d = {'k' : \"sudh\" , \"k2\" : [1,2,3,4] , \"k3\" :(1,2,3,4,5)}"
   ]
  },
  {
   "cell_type": "code",
   "execution_count": 9,
   "id": "27287fa8",
   "metadata": {},
   "outputs": [
    {
     "data": {
      "text/plain": [
       "dict_values(['sudh', [1, 2, 3, 4], (1, 2, 3, 4, 5)])"
      ]
     },
     "execution_count": 9,
     "metadata": {},
     "output_type": "execute_result"
    }
   ],
   "source": [
    "d.values()"
   ]
  },
  {
   "cell_type": "code",
   "execution_count": 10,
   "id": "f60e9dd4",
   "metadata": {},
   "outputs": [
    {
     "data": {
      "text/plain": [
       "dict_items([('k', 'sudh'), ('k2', [1, 2, 3, 4]), ('k3', (1, 2, 3, 4, 5))])"
      ]
     },
     "execution_count": 10,
     "metadata": {},
     "output_type": "execute_result"
    }
   ],
   "source": [
    "d.items()"
   ]
  },
  {
   "cell_type": "code",
   "execution_count": 11,
   "id": "1a898186",
   "metadata": {},
   "outputs": [
    {
     "data": {
      "text/plain": [
       "dict_keys(['k', 'k2', 'k3'])"
      ]
     },
     "execution_count": 11,
     "metadata": {},
     "output_type": "execute_result"
    }
   ],
   "source": [
    "d.keys()"
   ]
  },
  {
   "cell_type": "code",
   "execution_count": 12,
   "id": "2f1d686a",
   "metadata": {},
   "outputs": [
    {
     "data": {
      "text/plain": [
       "3"
      ]
     },
     "execution_count": 12,
     "metadata": {},
     "output_type": "execute_result"
    }
   ],
   "source": [
    "len(d)"
   ]
  },
  {
   "cell_type": "code",
   "execution_count": 15,
   "id": "9d7be966",
   "metadata": {},
   "outputs": [
    {
     "name": "stdout",
     "output_type": "stream",
     "text": [
      "sudh\n",
      "[1, 2, 3, 4]\n",
      "(1, 2, 3, 4, 5)\n"
     ]
    }
   ],
   "source": [
    "a = 0\n",
    "b = list(d.keys())\n",
    "while a < len(d) :\n",
    "    print(d[b[a]])\n",
    "    a = a+1\n",
    "    "
   ]
  },
  {
   "cell_type": "code",
   "execution_count": 16,
   "id": "f80fbe83",
   "metadata": {},
   "outputs": [],
   "source": [
    "def test():\n",
    "    print(\"this is my first function\")"
   ]
  },
  {
   "cell_type": "code",
   "execution_count": 17,
   "id": "61a1f4cf",
   "metadata": {},
   "outputs": [
    {
     "name": "stdout",
     "output_type": "stream",
     "text": [
      "this is my first function\n"
     ]
    }
   ],
   "source": [
    "test()"
   ]
  },
  {
   "cell_type": "code",
   "execution_count": 18,
   "id": "604b8e1e",
   "metadata": {},
   "outputs": [],
   "source": [
    "def test1():\n",
    "    return \"this is my first fun\""
   ]
  },
  {
   "cell_type": "code",
   "execution_count": 19,
   "id": "3859de36",
   "metadata": {},
   "outputs": [
    {
     "data": {
      "text/plain": [
       "'this is my first fun'"
      ]
     },
     "execution_count": 19,
     "metadata": {},
     "output_type": "execute_result"
    }
   ],
   "source": [
    "test1()"
   ]
  },
  {
   "cell_type": "code",
   "execution_count": 20,
   "id": "cf0a83e7",
   "metadata": {},
   "outputs": [],
   "source": [
    "def test2():\n",
    "    pass"
   ]
  },
  {
   "cell_type": "code",
   "execution_count": 21,
   "id": "31696cb4",
   "metadata": {},
   "outputs": [],
   "source": [
    "def test3():\n",
    "    return 1,2,3,[1,2,3,4,5]"
   ]
  },
  {
   "cell_type": "code",
   "execution_count": 22,
   "id": "bd0dbb97",
   "metadata": {},
   "outputs": [
    {
     "data": {
      "text/plain": [
       "(1, 2, 3, [1, 2, 3, 4, 5])"
      ]
     },
     "execution_count": 22,
     "metadata": {},
     "output_type": "execute_result"
    }
   ],
   "source": [
    "test3()"
   ]
  },
  {
   "cell_type": "code",
   "execution_count": 23,
   "id": "2fe0d127",
   "metadata": {},
   "outputs": [],
   "source": [
    "a,b,c,d = test3()"
   ]
  },
  {
   "cell_type": "code",
   "execution_count": 24,
   "id": "a17330e3",
   "metadata": {},
   "outputs": [
    {
     "data": {
      "text/plain": [
       "1"
      ]
     },
     "execution_count": 24,
     "metadata": {},
     "output_type": "execute_result"
    }
   ],
   "source": [
    "a"
   ]
  },
  {
   "cell_type": "code",
   "execution_count": 25,
   "id": "cd98bea8",
   "metadata": {},
   "outputs": [
    {
     "data": {
      "text/plain": [
       "2"
      ]
     },
     "execution_count": 25,
     "metadata": {},
     "output_type": "execute_result"
    }
   ],
   "source": [
    "b"
   ]
  },
  {
   "cell_type": "code",
   "execution_count": 26,
   "id": "fac4040c",
   "metadata": {},
   "outputs": [
    {
     "data": {
      "text/plain": [
       "3"
      ]
     },
     "execution_count": 26,
     "metadata": {},
     "output_type": "execute_result"
    }
   ],
   "source": [
    "c"
   ]
  },
  {
   "cell_type": "code",
   "execution_count": 27,
   "id": "51ffef11",
   "metadata": {},
   "outputs": [
    {
     "data": {
      "text/plain": [
       "[1, 2, 3, 4, 5]"
      ]
     },
     "execution_count": 27,
     "metadata": {},
     "output_type": "execute_result"
    }
   ],
   "source": [
    "d"
   ]
  },
  {
   "cell_type": "code",
   "execution_count": 28,
   "id": "7a1d50b4",
   "metadata": {},
   "outputs": [],
   "source": [
    "def test4() :\n",
    "    a = 4*5\n",
    "    b = 6+4\n",
    "    return a,b"
   ]
  },
  {
   "cell_type": "code",
   "execution_count": 29,
   "id": "4948495f",
   "metadata": {},
   "outputs": [
    {
     "data": {
      "text/plain": [
       "(20, 10)"
      ]
     },
     "execution_count": 29,
     "metadata": {},
     "output_type": "execute_result"
    }
   ],
   "source": [
    "test4()"
   ]
  },
  {
   "cell_type": "code",
   "execution_count": 31,
   "id": "d8127878",
   "metadata": {},
   "outputs": [],
   "source": [
    "_,m =test4()"
   ]
  },
  {
   "cell_type": "code",
   "execution_count": 32,
   "id": "082c9b1d",
   "metadata": {},
   "outputs": [
    {
     "data": {
      "text/plain": [
       "10"
      ]
     },
     "execution_count": 32,
     "metadata": {},
     "output_type": "execute_result"
    }
   ],
   "source": [
    "m"
   ]
  },
  {
   "cell_type": "code",
   "execution_count": 33,
   "id": "febb8de6",
   "metadata": {},
   "outputs": [
    {
     "data": {
      "text/plain": [
       "20"
      ]
     },
     "execution_count": 33,
     "metadata": {},
     "output_type": "execute_result"
    }
   ],
   "source": [
    "_"
   ]
  },
  {
   "cell_type": "code",
   "execution_count": 34,
   "id": "48e76262",
   "metadata": {},
   "outputs": [
    {
     "data": {
      "text/plain": [
       "(1, 2, 3, [1, 2, 3, 4, 5])"
      ]
     },
     "execution_count": 34,
     "metadata": {},
     "output_type": "execute_result"
    }
   ],
   "source": [
    "test3()"
   ]
  },
  {
   "cell_type": "code",
   "execution_count": 35,
   "id": "72e62f3c",
   "metadata": {},
   "outputs": [],
   "source": [
    "_,_,_,g = test3()"
   ]
  },
  {
   "cell_type": "code",
   "execution_count": 36,
   "id": "071fc951",
   "metadata": {},
   "outputs": [
    {
     "data": {
      "text/plain": [
       "[1, 2, 3, 4, 5]"
      ]
     },
     "execution_count": 36,
     "metadata": {},
     "output_type": "execute_result"
    }
   ],
   "source": [
    "g"
   ]
  },
  {
   "cell_type": "code",
   "execution_count": 37,
   "id": "30049b54",
   "metadata": {},
   "outputs": [],
   "source": [
    "j,k = test4()"
   ]
  },
  {
   "cell_type": "code",
   "execution_count": 38,
   "id": "8fbe5bd9",
   "metadata": {},
   "outputs": [
    {
     "data": {
      "text/plain": [
       "20"
      ]
     },
     "execution_count": 38,
     "metadata": {},
     "output_type": "execute_result"
    }
   ],
   "source": [
    "j"
   ]
  },
  {
   "cell_type": "code",
   "execution_count": 39,
   "id": "3d204b1a",
   "metadata": {},
   "outputs": [
    {
     "data": {
      "text/plain": [
       "10"
      ]
     },
     "execution_count": 39,
     "metadata": {},
     "output_type": "execute_result"
    }
   ],
   "source": [
    "k"
   ]
  },
  {
   "cell_type": "code",
   "execution_count": 43,
   "id": "ec712830",
   "metadata": {},
   "outputs": [],
   "source": [
    "def test5() :\n",
    "    a = 1\n",
    "    b = 10\n",
    "    \n",
    "    while a <= b :\n",
    "        print(a)\n",
    "        a = a+2\n",
    "    else :\n",
    "        print(\"print this\")"
   ]
  },
  {
   "cell_type": "code",
   "execution_count": 44,
   "id": "d7a07ade",
   "metadata": {},
   "outputs": [
    {
     "name": "stdout",
     "output_type": "stream",
     "text": [
      "1\n",
      "3\n",
      "5\n",
      "7\n",
      "9\n",
      "print this\n"
     ]
    }
   ],
   "source": [
    "test5()"
   ]
  },
  {
   "cell_type": "code",
   "execution_count": 49,
   "id": "c67e2b24",
   "metadata": {},
   "outputs": [],
   "source": [
    "def test5(a,b) :\n",
    "    l = []\n",
    "    while a <= b :\n",
    "        l.append(a)\n",
    "        a = a+2\n",
    "    else :\n",
    "        print(\"print this\") \n",
    "    return l"
   ]
  },
  {
   "cell_type": "code",
   "execution_count": 50,
   "id": "f10dd56b",
   "metadata": {},
   "outputs": [
    {
     "name": "stdout",
     "output_type": "stream",
     "text": [
      "print this\n"
     ]
    },
    {
     "data": {
      "text/plain": [
       "[1, 3, 5, 7, 9, 11]"
      ]
     },
     "execution_count": 50,
     "metadata": {},
     "output_type": "execute_result"
    }
   ],
   "source": [
    "test5(1,12)"
   ]
  },
  {
   "cell_type": "code",
   "execution_count": 51,
   "id": "ec080e07",
   "metadata": {},
   "outputs": [],
   "source": [
    "l = [4,5,6,6,7,8,9,99,5,5,5,[3,4,5,6],\"sudh\"]"
   ]
  },
  {
   "cell_type": "code",
   "execution_count": 52,
   "id": "09a25c30",
   "metadata": {},
   "outputs": [],
   "source": [
    "l1 = []\n",
    "for i in l :\n",
    "    if type(i) == int :\n",
    "        l1.append(i)"
   ]
  },
  {
   "cell_type": "code",
   "execution_count": 53,
   "id": "667c7da0",
   "metadata": {},
   "outputs": [
    {
     "data": {
      "text/plain": [
       "[4, 5, 6, 6, 7, 8, 9, 99, 5, 5, 5]"
      ]
     },
     "execution_count": 53,
     "metadata": {},
     "output_type": "execute_result"
    }
   ],
   "source": [
    "l1"
   ]
  },
  {
   "cell_type": "code",
   "execution_count": 66,
   "id": "e23e8429",
   "metadata": {},
   "outputs": [],
   "source": [
    "def test7(l):\n",
    "    l1 = []\n",
    "    for i in l :\n",
    "         if type(i) == int :\n",
    "            l1.append(i)\n",
    "    return l1"
   ]
  },
  {
   "cell_type": "code",
   "execution_count": 68,
   "id": "108e6bfe",
   "metadata": {},
   "outputs": [
    {
     "data": {
      "text/plain": [
       "[4, 5, 6, 6, 7, 8, 9, 99, 5, 5, 5]"
      ]
     },
     "execution_count": 68,
     "metadata": {},
     "output_type": "execute_result"
    }
   ],
   "source": [
    "test7(l)"
   ]
  },
  {
   "cell_type": "code",
   "execution_count": 69,
   "id": "0e3dfe90",
   "metadata": {},
   "outputs": [],
   "source": [
    "l3 = [345,64,56,85,26,\"sudh\",(4,5,6)]"
   ]
  },
  {
   "cell_type": "code",
   "execution_count": 72,
   "id": "f18ec20d",
   "metadata": {},
   "outputs": [],
   "source": [
    "def test7(l3):\n",
    "    l1 = []\n",
    "    for i in l3 :\n",
    "         if type(i) == int :\n",
    "            l1.append(i)\n",
    "    return l1"
   ]
  },
  {
   "cell_type": "code",
   "execution_count": 73,
   "id": "d006bbc0",
   "metadata": {},
   "outputs": [
    {
     "data": {
      "text/plain": [
       "[345, 64, 56, 85, 26]"
      ]
     },
     "execution_count": 73,
     "metadata": {},
     "output_type": "execute_result"
    }
   ],
   "source": [
    "test7(l3)"
   ]
  },
  {
   "cell_type": "code",
   "execution_count": null,
   "id": "66f8fe15",
   "metadata": {},
   "outputs": [],
   "source": [
    "a = 0\n",
    "while a < len(t) :\n",
    "    if t[a] == 6 or t[a] == 7 :\n",
    "        print(a)\n",
    "    a = a+1"
   ]
  },
  {
   "cell_type": "code",
   "execution_count": null,
   "id": "7a0ac755",
   "metadata": {},
   "outputs": [],
   "source": [
    "Your First Challenge : \n",
    "    \n",
    "\n",
    "\n",
    "q1 : Try to print this by using while loop \n",
    "* \n",
    "* * \n",
    "* * * \n",
    "* * * * \n",
    "* * * * * \n",
    "* * * * * * \n",
    "* * * * * * * \n",
    "* * * * * * * * \n",
    "* * * * * * * * * \n",
    "\n",
    "q2 : try to print below by using while loop : \n",
    "        \n",
    "A\n",
    "B H \n",
    "C I N\n",
    "D J o S\n",
    "E K p T W\n",
    "F L Q U X z\n",
    "G M R V Y \n",
    "\n",
    "q3 : Try to print all the number divisible by 3 in between a range of 40 - 400\n",
    "    \n",
    "q4 : Try to filter out all the vowels form below text by using while loop : \n",
    " \"\"\"Python is a high-level, interpreted, general-purpose programming language. Its design philosophy emphasizes code readability with the use of significant indentation.[32]\n",
    "\n",
    "Python is dynamically-typed and garbage-collected. It supports multiple programming paradigms, including structured (particularly procedural), object-oriented and functional programming. It is often described as a \"batteries included\" language due to its comprehensive standard library.[33][34]\n",
    "\n",
    "Guido van Rossum began working on Python in the late 1980s as a successor to the ABC programming language and first released it in 1991 as Python 0.9.0.[35] Python 2.0 was released in 2000 and introduced new features such as list comprehensions, cycle-detecting garbage collection, reference counting, and Unicode support. Python 3.0, released in 2008, was a major revision that is not completely backward-compatible with earlier versions. Python 2 was discontinued with version 2.7.18 in 2020.[36]\n",
    "\n",
    "Python consistently ranks as one of the most popular programming languagesc\"\"\" \n",
    "\n",
    "\n",
    "q5 : Try to generate all the even number between 1- 1000\n",
    "\n",
    "q6 : Define a function for all the above problem statememnt  . \n",
    "    \n",
    "q7 : write a code to get a time of your system \n",
    "\n",
    "q8 : Write a code to fetch date form your system \n",
    "\n",
    "q9 : Write a code to send a mail to your friend \n",
    "\n",
    "q10 : write a code to trigger alarm for you at scheduled time \n",
    "\n",
    "q11 : write a code to check ip address of your system \n",
    "\n",
    "q12 : Write a code to check a perticular installation in your system\n",
    "\n",
    "q13 : Write a code to convert any text in to voice \n",
    "\n",
    "q14 : you have to write a fun which will take string and return a len of \n",
    "it without using a inbuilt fun len\n",
    "\n",
    "q15 :write a fun which will be able to print an index of all premitive element which you will pass \n",
    "\n",
    "q16 : Write a fun which will take input as a dict and give me out as a list of all the values \n",
    "even in case of 2 level nesting it should work . \n",
    "\n",
    "q17 : write a function whihc will take multiple list as a input and give me concatnation of all the element as \n",
    "and output\n",
    "\n",
    "q18 : Write a function which will whould return list of all the file name from a directory . \n",
    "\n",
    "q19 : write a function whihc will be able to read a image file and show it to you .\n",
    "    \n",
    "q20 : write a function by which you will be able to append two PDF files . \n",
    "    \n",
    "q21 : write a function which can help you to filter only word file from a directory . \n",
    "    \n",
    "q22 : write a function which can read video file and play for you . \n",
    "    \n",
    "q23 : write a function which will be able to shutdonw your system . \n",
    "\n",
    "q24 : Write a function which will whould return list of all the file name from a directory . \n",
    "\n",
    "q25 : write a function whihc will be able to access your mail . \n",
    "        need to submit 4 th june"
   ]
  }
 ],
 "metadata": {
  "kernelspec": {
   "display_name": "Python 3 (ipykernel)",
   "language": "python",
   "name": "python3"
  },
  "language_info": {
   "codemirror_mode": {
    "name": "ipython",
    "version": 3
   },
   "file_extension": ".py",
   "mimetype": "text/x-python",
   "name": "python",
   "nbconvert_exporter": "python",
   "pygments_lexer": "ipython3",
   "version": "3.9.7"
  }
 },
 "nbformat": 4,
 "nbformat_minor": 5
}
