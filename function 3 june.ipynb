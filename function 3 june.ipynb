{
 "cells": [
  {
   "cell_type": "code",
   "execution_count": 1,
   "id": "e05487ba",
   "metadata": {},
   "outputs": [],
   "source": [
    "def test(a,b) :\n",
    "    '''this is my function for addition'''\n",
    "    return a+b"
   ]
  },
  {
   "cell_type": "code",
   "execution_count": 2,
   "id": "83bbd98d",
   "metadata": {},
   "outputs": [
    {
     "data": {
      "text/plain": [
       "10"
      ]
     },
     "execution_count": 2,
     "metadata": {},
     "output_type": "execute_result"
    }
   ],
   "source": [
    "test(4,6)"
   ]
  },
  {
   "cell_type": "code",
   "execution_count": 3,
   "id": "a6b2bcdf",
   "metadata": {},
   "outputs": [],
   "source": [
    "def test1(a,b,c,d,e):\n",
    "    return a,b,c,d,e"
   ]
  },
  {
   "cell_type": "code",
   "execution_count": 8,
   "id": "dd63ae9f",
   "metadata": {},
   "outputs": [
    {
     "data": {
      "text/plain": [
       "(3, 6, 5, 4, 7)"
      ]
     },
     "execution_count": 8,
     "metadata": {},
     "output_type": "execute_result"
    }
   ],
   "source": [
    "test1(3,6,5,4,7)"
   ]
  },
  {
   "cell_type": "code",
   "execution_count": 9,
   "id": "d5b1585f",
   "metadata": {},
   "outputs": [],
   "source": [
    "def test(*a) :\n",
    "    return a"
   ]
  },
  {
   "cell_type": "code",
   "execution_count": 10,
   "id": "0ce6848d",
   "metadata": {},
   "outputs": [
    {
     "data": {
      "text/plain": [
       "(34, 56)"
      ]
     },
     "execution_count": 10,
     "metadata": {},
     "output_type": "execute_result"
    }
   ],
   "source": [
    "test(34,56)"
   ]
  },
  {
   "cell_type": "code",
   "execution_count": null,
   "id": "dc914331",
   "metadata": {},
   "outputs": [],
   "source": [
    "#test(*a) or (*args) used for multiple number pass"
   ]
  },
  {
   "cell_type": "code",
   "execution_count": 11,
   "id": "1fbc74b6",
   "metadata": {},
   "outputs": [
    {
     "data": {
      "text/plain": [
       "(2, 3, 5)"
      ]
     },
     "execution_count": 11,
     "metadata": {},
     "output_type": "execute_result"
    }
   ],
   "source": [
    "test(2,3,5)"
   ]
  },
  {
   "cell_type": "code",
   "execution_count": 12,
   "id": "a489b154",
   "metadata": {},
   "outputs": [],
   "source": [
    "def test4(*args) :\n",
    "    return args"
   ]
  },
  {
   "cell_type": "code",
   "execution_count": 13,
   "id": "e28aa3e0",
   "metadata": {},
   "outputs": [
    {
     "data": {
      "text/plain": [
       "(34, 56, 6, 76, 7)"
      ]
     },
     "execution_count": 13,
     "metadata": {},
     "output_type": "execute_result"
    }
   ],
   "source": [
    "test4(34,56,6,76,7)"
   ]
  },
  {
   "cell_type": "code",
   "execution_count": 18,
   "id": "74fb3162",
   "metadata": {},
   "outputs": [],
   "source": [
    "def test5(*a) :\n",
    "    l = []\n",
    "    for i in a :\n",
    "        l.append(i)\n",
    "    return l"
   ]
  },
  {
   "cell_type": "code",
   "execution_count": 20,
   "id": "d61c9485",
   "metadata": {},
   "outputs": [
    {
     "data": {
      "text/plain": [
       "[2, 3, 45, 682, 56, 2]"
      ]
     },
     "execution_count": 20,
     "metadata": {},
     "output_type": "execute_result"
    }
   ],
   "source": [
    "test5(2,3,45,682,56,2)"
   ]
  },
  {
   "cell_type": "code",
   "execution_count": 21,
   "id": "4123b864",
   "metadata": {},
   "outputs": [],
   "source": [
    "def test6(a,b,c,d, *m):\n",
    "    return a,b,c,d, m"
   ]
  },
  {
   "cell_type": "code",
   "execution_count": 22,
   "id": "fc0025f2",
   "metadata": {},
   "outputs": [
    {
     "data": {
      "text/plain": [
       "(3, 5, 68, 25, (56.5,))"
      ]
     },
     "execution_count": 22,
     "metadata": {},
     "output_type": "execute_result"
    }
   ],
   "source": [
    "test6(3,5,68,25,56.5,)"
   ]
  },
  {
   "cell_type": "code",
   "execution_count": 30,
   "id": "c56f347a",
   "metadata": {},
   "outputs": [],
   "source": [
    "def test7(*m ,a,b,c,d,e):\n",
    "    return m , a,b,c,d,e"
   ]
  },
  {
   "cell_type": "code",
   "execution_count": 31,
   "id": "07bdb319",
   "metadata": {},
   "outputs": [
    {
     "ename": "TypeError",
     "evalue": "test7() missing 5 required keyword-only arguments: 'a', 'b', 'c', 'd', and 'e'",
     "output_type": "error",
     "traceback": [
      "\u001b[1;31m---------------------------------------------------------------------------\u001b[0m",
      "\u001b[1;31mTypeError\u001b[0m                                 Traceback (most recent call last)",
      "\u001b[1;32mC:\\Users\\ADMIN-~1\\AppData\\Local\\Temp/ipykernel_10516/1095457761.py\u001b[0m in \u001b[0;36m<module>\u001b[1;34m\u001b[0m\n\u001b[1;32m----> 1\u001b[1;33m \u001b[0mtest7\u001b[0m\u001b[1;33m(\u001b[0m\u001b[1;36m3\u001b[0m\u001b[1;33m,\u001b[0m\u001b[1;36m5\u001b[0m\u001b[1;33m,\u001b[0m\u001b[1;36m52\u001b[0m\u001b[1;33m,\u001b[0m\u001b[1;36m5\u001b[0m\u001b[1;33m,\u001b[0m\u001b[1;36m55\u001b[0m\u001b[1;33m)\u001b[0m\u001b[1;33m\u001b[0m\u001b[1;33m\u001b[0m\u001b[0m\n\u001b[0m",
      "\u001b[1;31mTypeError\u001b[0m: test7() missing 5 required keyword-only arguments: 'a', 'b', 'c', 'd', and 'e'"
     ]
    }
   ],
   "source": [
    "test7(3,5,52,5,55)"
   ]
  },
  {
   "cell_type": "code",
   "execution_count": 38,
   "id": "e123fb4a",
   "metadata": {},
   "outputs": [],
   "source": [
    "def test8(**a) :\n",
    "    return a"
   ]
  },
  {
   "cell_type": "code",
   "execution_count": 39,
   "id": "ab3fffda",
   "metadata": {},
   "outputs": [],
   "source": [
    "#(**kwargs) you want to pass dictionary"
   ]
  },
  {
   "cell_type": "raw",
   "id": "aa0eaac5",
   "metadata": {},
   "source": [
    "test8(b = 4,c = 5,d = 6,e = 4)"
   ]
  },
  {
   "cell_type": "code",
   "execution_count": 40,
   "id": "598b0fd3",
   "metadata": {},
   "outputs": [],
   "source": [
    "def test9(*m , **s) :\n",
    "    return m , s\n",
    "    "
   ]
  },
  {
   "cell_type": "code",
   "execution_count": 37,
   "id": "dfba6248",
   "metadata": {},
   "outputs": [
    {
     "data": {
      "text/plain": [
       "((345, 2565, 52, 2), {'b': 22, 'c': 6, 'd': 7, 'g': 9})"
      ]
     },
     "execution_count": 37,
     "metadata": {},
     "output_type": "execute_result"
    }
   ],
   "source": [
    "test9(345,2565,52,2,b=22,c=6,d=7,g=9)"
   ]
  },
  {
   "cell_type": "code",
   "execution_count": 42,
   "id": "81ae7dd1",
   "metadata": {},
   "outputs": [],
   "source": [
    "def test10(*m):\n",
    "    n = 0\n",
    "    for i in m :\n",
    "        if type(i) ==int :\n",
    "            n = n+i\n",
    "    return n\n"
   ]
  },
  {
   "cell_type": "code",
   "execution_count": 43,
   "id": "7c27219d",
   "metadata": {},
   "outputs": [
    {
     "data": {
      "text/plain": [
       "85"
      ]
     },
     "execution_count": 43,
     "metadata": {},
     "output_type": "execute_result"
    }
   ],
   "source": [
    "test10(2,3,4,5,6,65)"
   ]
  },
  {
   "cell_type": "code",
   "execution_count": 44,
   "id": "c9025ac7",
   "metadata": {},
   "outputs": [],
   "source": [
    "def test11(*m):\n",
    "    n = 1\n",
    "    for i in m :\n",
    "        if type(i) ==int :\n",
    "            n = n*i\n",
    "    return n\n"
   ]
  },
  {
   "cell_type": "code",
   "execution_count": 45,
   "id": "08573d01",
   "metadata": {},
   "outputs": [
    {
     "data": {
      "text/plain": [
       "1123200"
      ]
     },
     "execution_count": 45,
     "metadata": {},
     "output_type": "execute_result"
    }
   ],
   "source": [
    "test11(4,5,6,5,6,52,6)"
   ]
  },
  {
   "cell_type": "code",
   "execution_count": 46,
   "id": "f34b2a25",
   "metadata": {},
   "outputs": [],
   "source": [
    "n = lambda a,b :a+b"
   ]
  },
  {
   "cell_type": "code",
   "execution_count": 47,
   "id": "371390c0",
   "metadata": {},
   "outputs": [
    {
     "data": {
      "text/plain": [
       "9"
      ]
     },
     "execution_count": 47,
     "metadata": {},
     "output_type": "execute_result"
    }
   ],
   "source": [
    "n(4,5)"
   ]
  },
  {
   "cell_type": "code",
   "execution_count": null,
   "id": "22f9fcc4",
   "metadata": {},
   "outputs": [],
   "source": [
    "#lambda called a anonymous function bcoz there in no funtion name"
   ]
  },
  {
   "cell_type": "code",
   "execution_count": 48,
   "id": "51058a7f",
   "metadata": {},
   "outputs": [],
   "source": [
    "b = lambda *sudh :sudh"
   ]
  },
  {
   "cell_type": "code",
   "execution_count": 49,
   "id": "a731906d",
   "metadata": {},
   "outputs": [
    {
     "data": {
      "text/plain": [
       "(4, 5, 5, 5, 5, 5, 7)"
      ]
     },
     "execution_count": 49,
     "metadata": {},
     "output_type": "execute_result"
    }
   ],
   "source": [
    "b(4,5,5,5,5,5,7)"
   ]
  },
  {
   "cell_type": "code",
   "execution_count": 50,
   "id": "e6109e56",
   "metadata": {},
   "outputs": [],
   "source": [
    "t = (3,4,5,6,5,6,5,6)\n",
    "l = []\n",
    "for i in t :\n",
    "    l.append(i)"
   ]
  },
  {
   "cell_type": "code",
   "execution_count": 51,
   "id": "5b4302d1",
   "metadata": {},
   "outputs": [
    {
     "data": {
      "text/plain": [
       "[3, 4, 5, 6, 5, 6, 5, 6]"
      ]
     },
     "execution_count": 51,
     "metadata": {},
     "output_type": "execute_result"
    }
   ],
   "source": [
    "l"
   ]
  },
  {
   "cell_type": "code",
   "execution_count": 52,
   "id": "1c56f105",
   "metadata": {},
   "outputs": [],
   "source": [
    "s = \"sudh\""
   ]
  },
  {
   "cell_type": "code",
   "execution_count": 55,
   "id": "92759e73",
   "metadata": {},
   "outputs": [
    {
     "data": {
      "text/plain": [
       "['s', 'u', 'd', 'h']"
      ]
     },
     "execution_count": 55,
     "metadata": {},
     "output_type": "execute_result"
    }
   ],
   "source": [
    "[i for i in s]"
   ]
  },
  {
   "cell_type": "code",
   "execution_count": 57,
   "id": "aee75fe9",
   "metadata": {},
   "outputs": [
    {
     "data": {
      "text/plain": [
       "[0, 1, 4, 9, 16, 25, 36, 49, 64, 81]"
      ]
     },
     "execution_count": 57,
     "metadata": {},
     "output_type": "execute_result"
    }
   ],
   "source": [
    "[ i*i for i in range(10)]"
   ]
  },
  {
   "cell_type": "code",
   "execution_count": 58,
   "id": "fb32730d",
   "metadata": {},
   "outputs": [],
   "source": [
    "l = []\n",
    "for i in range(10):\n",
    "    l.append(i*i)"
   ]
  },
  {
   "cell_type": "code",
   "execution_count": 59,
   "id": "7942993e",
   "metadata": {},
   "outputs": [
    {
     "data": {
      "text/plain": [
       "[0, 1, 4, 9, 16, 25, 36, 49, 64, 81]"
      ]
     },
     "execution_count": 59,
     "metadata": {},
     "output_type": "execute_result"
    }
   ],
   "source": [
    "l"
   ]
  },
  {
   "cell_type": "code",
   "execution_count": 61,
   "id": "b5ba08b0",
   "metadata": {},
   "outputs": [],
   "source": [
    "l = lambda *x : [i**2 for i in x]"
   ]
  },
  {
   "cell_type": "code",
   "execution_count": 62,
   "id": "a55c8ebb",
   "metadata": {},
   "outputs": [
    {
     "data": {
      "text/plain": [
       "[16, 4225, 36, 36, 36, 36]"
      ]
     },
     "execution_count": 62,
     "metadata": {},
     "output_type": "execute_result"
    }
   ],
   "source": [
    "l(4,65,6,6,6,6)"
   ]
  },
  {
   "cell_type": "code",
   "execution_count": 74,
   "id": "5879f3e0",
   "metadata": {},
   "outputs": [],
   "source": [
    "def test14(**kwargs) :\n",
    "    count = 0\n",
    "    print(kwargs)\n",
    "    print(kwargs.values())\n",
    "    for v in kwargs.values():\n",
    "        if type(v) == str or type(v) == list:\n",
    "            count += 1\n",
    "\n",
    "        return count"
   ]
  },
  {
   "cell_type": "code",
   "execution_count": 73,
   "id": "085276bb",
   "metadata": {},
   "outputs": [
    {
     "name": "stdout",
     "output_type": "stream",
     "text": [
      "{'a': 7, 'b': 'sudh', 'c': 354, 'd': 'sudh', 'l': [2, 3, 4, 5, 'sudh']}\n",
      "dict_values([7, 'sudh', 354, 'sudh', [2, 3, 4, 5, 'sudh']])\n"
     ]
    },
    {
     "data": {
      "text/plain": [
       "0"
      ]
     },
     "execution_count": 73,
     "metadata": {},
     "output_type": "execute_result"
    }
   ],
   "source": [
    "test14(a = 7 , b = \"sudh\" , c = 354 , d = \"sudh\", l = [2,3,4,5, \"sudh\"])"
   ]
  },
  {
   "cell_type": "code",
   "execution_count": null,
   "id": "9143cb4e",
   "metadata": {},
   "outputs": [],
   "source": [
    "Todays task :\n",
    "    q1 : Try to print a prime number in between 1 to 1000\n",
    "    q2 : Try to write a function which  is equivalent  to print function in python\n",
    "    q3 : Try to write a function which is a replica of list append , extend and pop function \n",
    "    q4 : Try to write a lambda function which can return a concatination of all the string that we will pass\n",
    "    q5 : Try to write a lambda function which can return list of square of all the data between 1-100 \n",
    "    q6 : Try to write a 10 Different different example of lambda function with a choice of your taks \n",
    "    q7 : Try to wwrite a funtion whihc can perform a read operation from .txt file \n",
    "        \n",
    "        shivan@ineuron.ai\n",
    "        sudhashu@ineuron.ai"
   ]
  }
 ],
 "metadata": {
  "kernelspec": {
   "display_name": "Python 3 (ipykernel)",
   "language": "python",
   "name": "python3"
  },
  "language_info": {
   "codemirror_mode": {
    "name": "ipython",
    "version": 3
   },
   "file_extension": ".py",
   "mimetype": "text/x-python",
   "name": "python",
   "nbconvert_exporter": "python",
   "pygments_lexer": "ipython3",
   "version": "3.9.7"
  }
 },
 "nbformat": 4,
 "nbformat_minor": 5
}
