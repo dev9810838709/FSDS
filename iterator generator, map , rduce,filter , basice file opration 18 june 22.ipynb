{
 "cells": [
  {
   "cell_type": "code",
   "execution_count": 1,
   "id": "4fa285b8",
   "metadata": {},
   "outputs": [],
   "source": [
    "l = [1,2,35,5]"
   ]
  },
  {
   "cell_type": "code",
   "execution_count": 2,
   "id": "b56d585c",
   "metadata": {},
   "outputs": [
    {
     "name": "stdout",
     "output_type": "stream",
     "text": [
      "1\n",
      "2\n",
      "35\n",
      "5\n"
     ]
    }
   ],
   "source": [
    "for i in l:\n",
    "    print(i)"
   ]
  },
  {
   "cell_type": "code",
   "execution_count": 3,
   "id": "f5f332d3",
   "metadata": {},
   "outputs": [],
   "source": [
    "# list object is not itrator\n"
   ]
  },
  {
   "cell_type": "code",
   "execution_count": 4,
   "id": "0eb017cd",
   "metadata": {},
   "outputs": [],
   "source": [
    "b = iter(l)"
   ]
  },
  {
   "cell_type": "code",
   "execution_count": 5,
   "id": "f87b3a16",
   "metadata": {},
   "outputs": [
    {
     "data": {
      "text/plain": [
       "1"
      ]
     },
     "execution_count": 5,
     "metadata": {},
     "output_type": "execute_result"
    }
   ],
   "source": [
    "next(b)"
   ]
  },
  {
   "cell_type": "code",
   "execution_count": 6,
   "id": "29025460",
   "metadata": {},
   "outputs": [
    {
     "data": {
      "text/plain": [
       "2"
      ]
     },
     "execution_count": 6,
     "metadata": {},
     "output_type": "execute_result"
    }
   ],
   "source": [
    "next(b)"
   ]
  },
  {
   "cell_type": "code",
   "execution_count": 7,
   "id": "7a9e025c",
   "metadata": {},
   "outputs": [
    {
     "data": {
      "text/plain": [
       "35"
      ]
     },
     "execution_count": 7,
     "metadata": {},
     "output_type": "execute_result"
    }
   ],
   "source": [
    "next(b)"
   ]
  },
  {
   "cell_type": "code",
   "execution_count": null,
   "id": "4fac7293",
   "metadata": {},
   "outputs": [],
   "source": [
    "# llist value is by default itrable , iterable value can be convert in to iterator by iter function"
   ]
  },
  {
   "cell_type": "code",
   "execution_count": 8,
   "id": "d1e52231",
   "metadata": {},
   "outputs": [
    {
     "data": {
      "text/plain": [
       "[1, 2, 35, 5]"
      ]
     },
     "execution_count": 8,
     "metadata": {},
     "output_type": "execute_result"
    }
   ],
   "source": [
    "l"
   ]
  },
  {
   "cell_type": "code",
   "execution_count": 9,
   "id": "e2fe3268",
   "metadata": {},
   "outputs": [],
   "source": [
    "s = \"sudh\""
   ]
  },
  {
   "cell_type": "code",
   "execution_count": 10,
   "id": "ed4216c6",
   "metadata": {},
   "outputs": [
    {
     "ename": "TypeError",
     "evalue": "'str' object is not an iterator",
     "output_type": "error",
     "traceback": [
      "\u001b[1;31m---------------------------------------------------------------------------\u001b[0m",
      "\u001b[1;31mTypeError\u001b[0m                                 Traceback (most recent call last)",
      "\u001b[1;32mC:\\Users\\ADMIN-~1\\AppData\\Local\\Temp/ipykernel_6916/1977886155.py\u001b[0m in \u001b[0;36m<module>\u001b[1;34m\u001b[0m\n\u001b[1;32m----> 1\u001b[1;33m \u001b[0mnext\u001b[0m\u001b[1;33m(\u001b[0m\u001b[0ms\u001b[0m\u001b[1;33m)\u001b[0m\u001b[1;33m\u001b[0m\u001b[1;33m\u001b[0m\u001b[0m\n\u001b[0m",
      "\u001b[1;31mTypeError\u001b[0m: 'str' object is not an iterator"
     ]
    }
   ],
   "source": [
    "next(s)"
   ]
  },
  {
   "cell_type": "code",
   "execution_count": 11,
   "id": "8f8cd139",
   "metadata": {},
   "outputs": [],
   "source": [
    "# 'str' object is not an iterator"
   ]
  },
  {
   "cell_type": "code",
   "execution_count": 12,
   "id": "3e625ab8",
   "metadata": {},
   "outputs": [],
   "source": [
    "c = iter(s)"
   ]
  },
  {
   "cell_type": "code",
   "execution_count": 13,
   "id": "52033b46",
   "metadata": {},
   "outputs": [
    {
     "data": {
      "text/plain": [
       "'s'"
      ]
     },
     "execution_count": 13,
     "metadata": {},
     "output_type": "execute_result"
    }
   ],
   "source": [
    "next(c)"
   ]
  },
  {
   "cell_type": "code",
   "execution_count": 14,
   "id": "d1c63fac",
   "metadata": {},
   "outputs": [
    {
     "data": {
      "text/plain": [
       "'u'"
      ]
     },
     "execution_count": 14,
     "metadata": {},
     "output_type": "execute_result"
    }
   ],
   "source": [
    "next(c)"
   ]
  },
  {
   "cell_type": "code",
   "execution_count": 15,
   "id": "04a49fad",
   "metadata": {},
   "outputs": [
    {
     "data": {
      "text/plain": [
       "'d'"
      ]
     },
     "execution_count": 15,
     "metadata": {},
     "output_type": "execute_result"
    }
   ],
   "source": [
    "next(c)"
   ]
  },
  {
   "cell_type": "code",
   "execution_count": 16,
   "id": "401a0bc8",
   "metadata": {},
   "outputs": [
    {
     "data": {
      "text/plain": [
       "'h'"
      ]
     },
     "execution_count": 16,
     "metadata": {},
     "output_type": "execute_result"
    }
   ],
   "source": [
    "next(c)"
   ]
  },
  {
   "cell_type": "code",
   "execution_count": 17,
   "id": "2c6b2cbb",
   "metadata": {},
   "outputs": [
    {
     "ename": "StopIteration",
     "evalue": "",
     "output_type": "error",
     "traceback": [
      "\u001b[1;31m---------------------------------------------------------------------------\u001b[0m",
      "\u001b[1;31mStopIteration\u001b[0m                             Traceback (most recent call last)",
      "\u001b[1;32mC:\\Users\\ADMIN-~1\\AppData\\Local\\Temp/ipykernel_6916/1173204873.py\u001b[0m in \u001b[0;36m<module>\u001b[1;34m\u001b[0m\n\u001b[1;32m----> 1\u001b[1;33m \u001b[0mnext\u001b[0m\u001b[1;33m(\u001b[0m\u001b[0mc\u001b[0m\u001b[1;33m)\u001b[0m\u001b[1;33m\u001b[0m\u001b[1;33m\u001b[0m\u001b[0m\n\u001b[0m",
      "\u001b[1;31mStopIteration\u001b[0m: "
     ]
    }
   ],
   "source": [
    "next(c)"
   ]
  },
  {
   "cell_type": "code",
   "execution_count": null,
   "id": "22fb7cd5",
   "metadata": {},
   "outputs": [],
   "source": [
    "# that the inernal function where the for loop working"
   ]
  },
  {
   "cell_type": "code",
   "execution_count": 18,
   "id": "0d1c83cc",
   "metadata": {},
   "outputs": [],
   "source": [
    "t = (1,2,3,2,5,6,2)"
   ]
  },
  {
   "cell_type": "code",
   "execution_count": 19,
   "id": "fa1d640c",
   "metadata": {},
   "outputs": [
    {
     "ename": "TypeError",
     "evalue": "'tuple' object is not an iterator",
     "output_type": "error",
     "traceback": [
      "\u001b[1;31m---------------------------------------------------------------------------\u001b[0m",
      "\u001b[1;31mTypeError\u001b[0m                                 Traceback (most recent call last)",
      "\u001b[1;32mC:\\Users\\ADMIN-~1\\AppData\\Local\\Temp/ipykernel_6916/4036564693.py\u001b[0m in \u001b[0;36m<module>\u001b[1;34m\u001b[0m\n\u001b[1;32m----> 1\u001b[1;33m \u001b[0mnext\u001b[0m \u001b[1;33m(\u001b[0m\u001b[0mt\u001b[0m\u001b[1;33m)\u001b[0m\u001b[1;33m\u001b[0m\u001b[1;33m\u001b[0m\u001b[0m\n\u001b[0m",
      "\u001b[1;31mTypeError\u001b[0m: 'tuple' object is not an iterator"
     ]
    }
   ],
   "source": [
    "next (t)"
   ]
  },
  {
   "cell_type": "code",
   "execution_count": null,
   "id": "cb95c949",
   "metadata": {},
   "outputs": [],
   "source": [
    "# 'tuple' object is not an iterator"
   ]
  },
  {
   "cell_type": "code",
   "execution_count": 20,
   "id": "42ebc23a",
   "metadata": {},
   "outputs": [],
   "source": [
    "r = iter(t)"
   ]
  },
  {
   "cell_type": "code",
   "execution_count": 21,
   "id": "950e7510",
   "metadata": {},
   "outputs": [
    {
     "data": {
      "text/plain": [
       "1"
      ]
     },
     "execution_count": 21,
     "metadata": {},
     "output_type": "execute_result"
    }
   ],
   "source": [
    "next(r)"
   ]
  },
  {
   "cell_type": "code",
   "execution_count": 22,
   "id": "b53877a8",
   "metadata": {},
   "outputs": [
    {
     "data": {
      "text/plain": [
       "2"
      ]
     },
     "execution_count": 22,
     "metadata": {},
     "output_type": "execute_result"
    }
   ],
   "source": [
    "next(r)"
   ]
  },
  {
   "cell_type": "code",
   "execution_count": 23,
   "id": "04199a58",
   "metadata": {},
   "outputs": [
    {
     "data": {
      "text/plain": [
       "3"
      ]
     },
     "execution_count": 23,
     "metadata": {},
     "output_type": "execute_result"
    }
   ],
   "source": [
    "next(r)"
   ]
  },
  {
   "cell_type": "code",
   "execution_count": 24,
   "id": "43031b84",
   "metadata": {},
   "outputs": [
    {
     "data": {
      "text/plain": [
       "2"
      ]
     },
     "execution_count": 24,
     "metadata": {},
     "output_type": "execute_result"
    }
   ],
   "source": [
    "next(r)"
   ]
  },
  {
   "cell_type": "code",
   "execution_count": 25,
   "id": "a8681e33",
   "metadata": {},
   "outputs": [
    {
     "data": {
      "text/plain": [
       "5"
      ]
     },
     "execution_count": 25,
     "metadata": {},
     "output_type": "execute_result"
    }
   ],
   "source": [
    "next(r)"
   ]
  },
  {
   "cell_type": "code",
   "execution_count": 26,
   "id": "dc248bd6",
   "metadata": {},
   "outputs": [
    {
     "data": {
      "text/plain": [
       "6"
      ]
     },
     "execution_count": 26,
     "metadata": {},
     "output_type": "execute_result"
    }
   ],
   "source": [
    "next(r)"
   ]
  },
  {
   "cell_type": "code",
   "execution_count": 27,
   "id": "b598b54b",
   "metadata": {},
   "outputs": [
    {
     "data": {
      "text/plain": [
       "range(1, 10)"
      ]
     },
     "execution_count": 27,
     "metadata": {},
     "output_type": "execute_result"
    }
   ],
   "source": [
    "range(1,10)"
   ]
  },
  {
   "cell_type": "code",
   "execution_count": 28,
   "id": "c6d2001c",
   "metadata": {},
   "outputs": [
    {
     "data": {
      "text/plain": [
       "[1, 2, 3, 4, 5, 6, 7, 8, 9]"
      ]
     },
     "execution_count": 28,
     "metadata": {},
     "output_type": "execute_result"
    }
   ],
   "source": [
    "list(range(1,10))"
   ]
  },
  {
   "cell_type": "code",
   "execution_count": 29,
   "id": "6f3f5e6b",
   "metadata": {},
   "outputs": [],
   "source": [
    "def square_fun(n):\n",
    "    x = [i*i for i in range(n)]\n",
    "    return x"
   ]
  },
  {
   "cell_type": "code",
   "execution_count": 30,
   "id": "a3189ceb",
   "metadata": {},
   "outputs": [
    {
     "data": {
      "text/plain": [
       "[0, 1, 4, 9]"
      ]
     },
     "execution_count": 30,
     "metadata": {},
     "output_type": "execute_result"
    }
   ],
   "source": [
    "square_fun(4)"
   ]
  },
  {
   "cell_type": "code",
   "execution_count": 31,
   "id": "764c8c3b",
   "metadata": {},
   "outputs": [],
   "source": [
    "def square_fun(n):\n",
    "    x = [i*i for i in range(n)]\n",
    "    yield x"
   ]
  },
  {
   "cell_type": "code",
   "execution_count": 32,
   "id": "53705220",
   "metadata": {},
   "outputs": [
    {
     "data": {
      "text/plain": [
       "<generator object square_fun at 0x000002DF7B04B9E0>"
      ]
     },
     "execution_count": 32,
     "metadata": {},
     "output_type": "execute_result"
    }
   ],
   "source": [
    "square_fun(4)"
   ]
  },
  {
   "cell_type": "code",
   "execution_count": 33,
   "id": "3a41d5b0",
   "metadata": {},
   "outputs": [
    {
     "name": "stdout",
     "output_type": "stream",
     "text": [
      "[0, 1, 4, 9]\n"
     ]
    }
   ],
   "source": [
    "for i in square_fun(4) :\n",
    "    print(i)"
   ]
  },
  {
   "cell_type": "code",
   "execution_count": 36,
   "id": "3c857f26",
   "metadata": {},
   "outputs": [],
   "source": [
    "def genfib(n):\n",
    "    a = 1\n",
    "    b = 1\n",
    "    l = []\n",
    "    for i in range(n):\n",
    "        l.append(a)\n",
    "        a,b = b , a+b\n",
    "    return l"
   ]
  },
  {
   "cell_type": "code",
   "execution_count": 37,
   "id": "57b88157",
   "metadata": {},
   "outputs": [
    {
     "data": {
      "text/plain": [
       "[1, 1, 2, 3, 5, 8, 13, 21, 34, 55]"
      ]
     },
     "execution_count": 37,
     "metadata": {},
     "output_type": "execute_result"
    }
   ],
   "source": [
    "genfib(10)"
   ]
  },
  {
   "cell_type": "code",
   "execution_count": 39,
   "id": "c747440e",
   "metadata": {},
   "outputs": [],
   "source": [
    "def genfib1(n):\n",
    "    a = 1\n",
    "    b = 1\n",
    "    for i in range(n):\n",
    "        yield a\n",
    "        a,b = b , a+b\n",
    "    return l "
   ]
  },
  {
   "cell_type": "code",
   "execution_count": 40,
   "id": "e8905532",
   "metadata": {},
   "outputs": [
    {
     "data": {
      "text/plain": [
       "<generator object genfib1 at 0x000002DF7B04BCF0>"
      ]
     },
     "execution_count": 40,
     "metadata": {},
     "output_type": "execute_result"
    }
   ],
   "source": [
    " genfib1(10)"
   ]
  },
  {
   "cell_type": "code",
   "execution_count": 41,
   "id": "98d51443",
   "metadata": {},
   "outputs": [
    {
     "name": "stdout",
     "output_type": "stream",
     "text": [
      "1\n",
      "1\n",
      "2\n",
      "3\n",
      "5\n",
      "8\n",
      "13\n",
      "21\n",
      "34\n",
      "55\n"
     ]
    }
   ],
   "source": [
    "for i in genfib1(10):\n",
    "    print(i)"
   ]
  },
  {
   "cell_type": "code",
   "execution_count": 42,
   "id": "1149ed11",
   "metadata": {},
   "outputs": [],
   "source": [
    "#yeild function is generator function"
   ]
  },
  {
   "cell_type": "code",
   "execution_count": 43,
   "id": "47491b6b",
   "metadata": {},
   "outputs": [],
   "source": [
    "# file opration"
   ]
  },
  {
   "cell_type": "code",
   "execution_count": 44,
   "id": "7cb60dd5",
   "metadata": {},
   "outputs": [],
   "source": [
    "f = open(\"dev.txt\" , 'w')"
   ]
  },
  {
   "cell_type": "code",
   "execution_count": 45,
   "id": "4599168a",
   "metadata": {},
   "outputs": [
    {
     "name": "stdout",
     "output_type": "stream",
     "text": [
      " Volume in drive C has no label.\n",
      " Volume Serial Number is 4A61-45C6\n",
      "\n",
      " Directory of C:\\Users\\Admin-ECS\n",
      "\n",
      "18/06/2022  16:35    <DIR>          .\n",
      "18/06/2022  16:35    <DIR>          ..\n",
      "24/02/2022  12:08    <DIR>          .conda\n",
      "18/06/2022  15:19    <DIR>          .ipynb_checkpoints\n",
      "16/12/2021  13:11    <DIR>          .ipython\n",
      "16/12/2021  15:16    <DIR>          .jupyter\n",
      "27/03/2022  10:22    <DIR>          .matplotlib\n",
      "19/09/2021  16:30    <DIR>          .vscode\n",
      "07/02/2022  15:39    <DIR>          __pycache__\n",
      "17/10/2020  22:25    <DIR>          3D Objects\n",
      "16/12/2021  11:59    <DIR>          anaconda3\n",
      "13/03/2022  10:19         5,881,081 Annual.csv\n",
      "14/02/2012  14:38           461,474 bank.csv\n",
      "14/02/2012  14:40         4,610,348 bank-full.csv\n",
      "14/02/2012  15:10             3,864 bank-names.txt\n",
      "12/08/2021  00:13               151 BullseyeCoverageError.txt\n",
      "11/03/2022  16:49             3,477 Cassandra.ipynb\n",
      "26/02/2022  18:21            10,988 Class  Oops inheritence.ipynb\n",
      "17/10/2020  22:25    <DIR>          Contacts\n",
      "14/03/2022  22:09             5,658 cricket.csv\n",
      "16/03/2022  11:00    <DIR>          Desktop\n",
      "18/06/2022  16:35                 0 dev.txt\n",
      "12/06/2022  07:47    <DIR>          Documents\n",
      "12/06/2022  15:08    <DIR>          Downloads\n",
      "03/02/2022  15:13            13,656 Exceptional Handling.ipynb\n",
      "17/10/2020  22:25    <DIR>          Favorites\n",
      "28/05/2022  17:33            14,227 for loop 28.ipynb\n",
      "05/06/2022  16:45            13,724 function 3 june.ipynb\n",
      "07/02/2022  10:59           118,756 function.ipynb\n",
      "02/03/2022  21:05            11,903 glass.data\n",
      "07/02/2022  10:48             1,099 google.txt\n",
      "01/04/2022  10:07         1,092,234 Graph.ipynb\n",
      "21/03/2022  20:04               935 GUI  - 1.ipynb\n",
      "26/05/2022  17:20            24,788 if else 22.ipynb\n",
      "10/03/2022  21:10            12,288 jobdb.db\n",
      "10/03/2022  21:19             8,720 jobdb.db-journal\n",
      "15/03/2022  16:18            34,960 json_res.csv\n",
      "17/10/2020  22:25    <DIR>          Links\n",
      "23/02/2022  18:10            10,170 logging & Modules.ipynb\n",
      "30/12/2021  21:48            44,679 loop.ipynb\n",
      "09/03/2022  15:30            13,402 mongodb.ipynb\n",
      "17/10/2020  22:25    <DIR>          Music\n",
      "07/02/2022  15:38               211 my_module.py\n",
      "07/03/2022  22:08           547,683 mysql.ipynb\n",
      "14/03/2022  21:40            78,960 NBS.csv\n",
      "07/08/2021  20:46    <DIR>          OneDrive\n",
      "21/03/2022  10:46           430,194 pandas 6 march & Numpy.ipynb\n",
      "15/03/2022  20:28           622,353 Pandas day2.ipynb\n",
      "19/03/2022  14:32           302,256 pandas day3.ipynb\n",
      "14/03/2022  20:47           128,039 pandas.ipynb\n",
      "10/03/2022  17:10             8,192 person.db\n",
      "30/12/2020  13:03    <DIR>          Pictures\n",
      "17/10/2020  22:25    <DIR>          Saved Games\n",
      "27/03/2022  10:23    <DIR>          seaborn-data\n",
      "17/10/2020  22:25    <DIR>          Searches\n",
      "10/03/2022  21:26            33,970 SQL Lite map reduce filter.ipynb\n",
      "19/12/2021  17:16            30,754 String list.ipynb\n",
      "14/03/2022  15:50               208 Sudhir.csv\n",
      "10/03/2022  17:12             8,192 sudhir.db\n",
      "14/03/2022  17:38             7,928 Test file.xlsx\n",
      "07/02/2022  12:36               313 test.log\n",
      "05/02/2022  16:28                 0 test.txt\n",
      "22/01/2022  10:30                 0 test1.py\n",
      "07/02/2022  12:50               784 test2.log\n",
      "09/01/2022  12:02                19 test2.txt\n",
      "07/02/2022  13:47             2,265 test3.log\n",
      "07/02/2022  15:27               269 test5.py\n",
      "30/12/2021  05:48    <DIR>          Tracing\n",
      "19/12/2021  14:07            87,267 tuples set dictionary.ipynb\n",
      "21/05/2022  17:33            25,329 Tuples, Dictionary, set 21 .ipynb\n",
      "16/12/2021  15:04            11,923 Untitled.ipynb\n",
      "24/02/2022  13:25            21,371 Untitled1.ipynb\n",
      "19/12/2021  10:11               588 Untitled2.ipynb\n",
      "19/12/2021  11:00             3,845 Untitled3.ipynb\n",
      "21/03/2022  20:05                72 Untitled4.ipynb\n",
      "26/05/2022  16:18               588 Untitled5.ipynb\n",
      "04/06/2022  17:36             1,238 Untitled6.ipynb\n",
      "18/06/2022  16:35            14,246 Untitled7.ipynb\n",
      "11/11/2020  03:39    <DIR>          Videos\n",
      "29/05/2022  17:55            20,792 while loop 29.ipynb\n",
      "              55 File(s)     14,782,431 bytes\n",
      "              25 Dir(s)  922,244,853,760 bytes free\n"
     ]
    }
   ],
   "source": [
    "ls"
   ]
  },
  {
   "cell_type": "code",
   "execution_count": 46,
   "id": "da98128c",
   "metadata": {},
   "outputs": [
    {
     "data": {
      "text/plain": [
       "35"
      ]
     },
     "execution_count": 46,
     "metadata": {},
     "output_type": "execute_result"
    }
   ],
   "source": [
    "f.write(\"this is my very first file operaton\")"
   ]
  },
  {
   "cell_type": "code",
   "execution_count": 47,
   "id": "de9b3786",
   "metadata": {},
   "outputs": [],
   "source": [
    "f.close()"
   ]
  },
  {
   "cell_type": "code",
   "execution_count": 48,
   "id": "45781efc",
   "metadata": {},
   "outputs": [],
   "source": [
    "f1 = open(\"Rest1.txt\" , \"w\")"
   ]
  },
  {
   "cell_type": "code",
   "execution_count": 49,
   "id": "baba8e43",
   "metadata": {},
   "outputs": [
    {
     "data": {
      "text/plain": [
       "17"
      ]
     },
     "execution_count": 49,
     "metadata": {},
     "output_type": "execute_result"
    }
   ],
   "source": [
    "f1.write(\"My name is sudhir\")"
   ]
  },
  {
   "cell_type": "code",
   "execution_count": 50,
   "id": "0719d201",
   "metadata": {},
   "outputs": [],
   "source": [
    "f1.close()"
   ]
  },
  {
   "cell_type": "code",
   "execution_count": 51,
   "id": "4d1527b5",
   "metadata": {},
   "outputs": [],
   "source": [
    "l = [1,2,3,4,5,652,6,2,6]"
   ]
  },
  {
   "cell_type": "code",
   "execution_count": 52,
   "id": "79310284",
   "metadata": {},
   "outputs": [],
   "source": [
    "f2 = open(\"rest2.txt\" ,'w')"
   ]
  },
  {
   "cell_type": "code",
   "execution_count": 55,
   "id": "7172ef44",
   "metadata": {},
   "outputs": [
    {
     "data": {
      "text/plain": [
       "29"
      ]
     },
     "execution_count": 55,
     "metadata": {},
     "output_type": "execute_result"
    }
   ],
   "source": [
    "f2.write(str(l))"
   ]
  },
  {
   "cell_type": "code",
   "execution_count": 56,
   "id": "5c81570d",
   "metadata": {},
   "outputs": [],
   "source": [
    "f2.close()"
   ]
  },
  {
   "cell_type": "code",
   "execution_count": 57,
   "id": "4a6f7873",
   "metadata": {},
   "outputs": [],
   "source": [
    "f3 = open(\"rest3.txt\" ,'w')\n",
    "f3.write(\"mfgbfkbg vfjkfbfb\")\n",
    "f3.close()"
   ]
  },
  {
   "cell_type": "code",
   "execution_count": 58,
   "id": "a8a0bce9",
   "metadata": {},
   "outputs": [
    {
     "name": "stdout",
     "output_type": "stream",
     "text": [
      "Writing rest.txt\n"
     ]
    }
   ],
   "source": [
    "%%writefile rest.txt\n",
    "this is my python file"
   ]
  },
  {
   "cell_type": "code",
   "execution_count": 59,
   "id": "ab24ee9a",
   "metadata": {},
   "outputs": [],
   "source": [
    "f = open('rest3.txt')"
   ]
  },
  {
   "cell_type": "code",
   "execution_count": 60,
   "id": "f70b9d35",
   "metadata": {},
   "outputs": [
    {
     "data": {
      "text/plain": [
       "'mfgbfkbg vfjkfbfb'"
      ]
     },
     "execution_count": 60,
     "metadata": {},
     "output_type": "execute_result"
    }
   ],
   "source": [
    "f.read()"
   ]
  },
  {
   "cell_type": "code",
   "execution_count": 61,
   "id": "a7887f92",
   "metadata": {},
   "outputs": [
    {
     "data": {
      "text/plain": [
       "''"
      ]
     },
     "execution_count": 61,
     "metadata": {},
     "output_type": "execute_result"
    }
   ],
   "source": [
    "f.read()"
   ]
  },
  {
   "cell_type": "code",
   "execution_count": 62,
   "id": "7fe605e3",
   "metadata": {},
   "outputs": [
    {
     "data": {
      "text/plain": [
       "0"
      ]
     },
     "execution_count": 62,
     "metadata": {},
     "output_type": "execute_result"
    }
   ],
   "source": [
    "f.seek(0)"
   ]
  },
  {
   "cell_type": "code",
   "execution_count": 63,
   "id": "b9ead05f",
   "metadata": {},
   "outputs": [
    {
     "data": {
      "text/plain": [
       "'mfgbfkbg vfjkfbfb'"
      ]
     },
     "execution_count": 63,
     "metadata": {},
     "output_type": "execute_result"
    }
   ],
   "source": [
    "f.read()"
   ]
  },
  {
   "cell_type": "code",
   "execution_count": 64,
   "id": "b15fdd40",
   "metadata": {},
   "outputs": [
    {
     "data": {
      "text/plain": [
       "4"
      ]
     },
     "execution_count": 64,
     "metadata": {},
     "output_type": "execute_result"
    }
   ],
   "source": [
    "f.seek(4)"
   ]
  },
  {
   "cell_type": "code",
   "execution_count": 65,
   "id": "2240beae",
   "metadata": {},
   "outputs": [
    {
     "data": {
      "text/plain": [
       "'fkbg vfjkfbfb'"
      ]
     },
     "execution_count": 65,
     "metadata": {},
     "output_type": "execute_result"
    }
   ],
   "source": [
    "f.read()"
   ]
  },
  {
   "cell_type": "code",
   "execution_count": 66,
   "id": "14f1e006",
   "metadata": {},
   "outputs": [
    {
     "data": {
      "text/plain": [
       "9"
      ]
     },
     "execution_count": 66,
     "metadata": {},
     "output_type": "execute_result"
    }
   ],
   "source": [
    "f.seek(9)"
   ]
  },
  {
   "cell_type": "code",
   "execution_count": 67,
   "id": "73a7745c",
   "metadata": {},
   "outputs": [
    {
     "data": {
      "text/plain": [
       "'vfjkfbfb'"
      ]
     },
     "execution_count": 67,
     "metadata": {},
     "output_type": "execute_result"
    }
   ],
   "source": [
    "f.read()"
   ]
  },
  {
   "cell_type": "code",
   "execution_count": 68,
   "id": "98297a2b",
   "metadata": {},
   "outputs": [],
   "source": [
    "f1 = open('rest3.txt')"
   ]
  },
  {
   "cell_type": "code",
   "execution_count": 69,
   "id": "774d7178",
   "metadata": {},
   "outputs": [
    {
     "data": {
      "text/plain": [
       "0"
      ]
     },
     "execution_count": 69,
     "metadata": {},
     "output_type": "execute_result"
    }
   ],
   "source": [
    "f1.tell()"
   ]
  },
  {
   "cell_type": "code",
   "execution_count": null,
   "id": "57c464e1",
   "metadata": {},
   "outputs": [],
   "source": [
    "# tell function meaning is what is position of pointer"
   ]
  },
  {
   "cell_type": "code",
   "execution_count": 70,
   "id": "9804b82c",
   "metadata": {},
   "outputs": [
    {
     "data": {
      "text/plain": [
       "2"
      ]
     },
     "execution_count": 70,
     "metadata": {},
     "output_type": "execute_result"
    }
   ],
   "source": [
    "f1.seek(2)"
   ]
  },
  {
   "cell_type": "code",
   "execution_count": 71,
   "id": "ca7dda66",
   "metadata": {},
   "outputs": [
    {
     "data": {
      "text/plain": [
       "'gbfkbg vf'"
      ]
     },
     "execution_count": 71,
     "metadata": {},
     "output_type": "execute_result"
    }
   ],
   "source": [
    "f1.read(9)"
   ]
  },
  {
   "cell_type": "code",
   "execution_count": 72,
   "id": "dc26d8eb",
   "metadata": {},
   "outputs": [],
   "source": [
    "f2 = open('rest3.txt')"
   ]
  },
  {
   "cell_type": "code",
   "execution_count": 73,
   "id": "572d267a",
   "metadata": {},
   "outputs": [
    {
     "data": {
      "text/plain": [
       "0"
      ]
     },
     "execution_count": 73,
     "metadata": {},
     "output_type": "execute_result"
    }
   ],
   "source": [
    "f2.seek(0)"
   ]
  },
  {
   "cell_type": "code",
   "execution_count": 74,
   "id": "c6faf4e8",
   "metadata": {},
   "outputs": [
    {
     "data": {
      "text/plain": [
       "'mfgbfkbg vfjkfbfb'"
      ]
     },
     "execution_count": 74,
     "metadata": {},
     "output_type": "execute_result"
    }
   ],
   "source": [
    "f2.readline()"
   ]
  },
  {
   "cell_type": "code",
   "execution_count": 75,
   "id": "aecd9678",
   "metadata": {},
   "outputs": [
    {
     "data": {
      "text/plain": [
       "[]"
      ]
     },
     "execution_count": 75,
     "metadata": {},
     "output_type": "execute_result"
    }
   ],
   "source": [
    "f2.readlines()"
   ]
  },
  {
   "cell_type": "code",
   "execution_count": 76,
   "id": "6a86c864",
   "metadata": {},
   "outputs": [
    {
     "data": {
      "text/plain": [
       "6"
      ]
     },
     "execution_count": 76,
     "metadata": {},
     "output_type": "execute_result"
    }
   ],
   "source": [
    "f2.fileno()"
   ]
  },
  {
   "cell_type": "code",
   "execution_count": 77,
   "id": "3f963f7b",
   "metadata": {},
   "outputs": [],
   "source": [
    "f = open(\"test21.txt\" , 'w')"
   ]
  },
  {
   "cell_type": "code",
   "execution_count": 78,
   "id": "e9789b52",
   "metadata": {},
   "outputs": [
    {
     "data": {
      "text/plain": [
       "25"
      ]
     },
     "execution_count": 78,
     "metadata": {},
     "output_type": "execute_result"
    }
   ],
   "source": [
    "f.write(\"\"\"this is my python program\"\"\")"
   ]
  },
  {
   "cell_type": "code",
   "execution_count": 79,
   "id": "724c7757",
   "metadata": {},
   "outputs": [],
   "source": [
    "f.close()"
   ]
  },
  {
   "cell_type": "code",
   "execution_count": 80,
   "id": "babdd428",
   "metadata": {},
   "outputs": [
    {
     "ename": "ValueError",
     "evalue": "I/O operation on closed file.",
     "output_type": "error",
     "traceback": [
      "\u001b[1;31m---------------------------------------------------------------------------\u001b[0m",
      "\u001b[1;31mValueError\u001b[0m                                Traceback (most recent call last)",
      "\u001b[1;32mC:\\Users\\ADMIN-~1\\AppData\\Local\\Temp/ipykernel_6916/486092099.py\u001b[0m in \u001b[0;36m<module>\u001b[1;34m\u001b[0m\n\u001b[1;32m----> 1\u001b[1;33m \u001b[0mf\u001b[0m\u001b[1;33m.\u001b[0m\u001b[0mwrite\u001b[0m\u001b[1;33m(\u001b[0m\u001b[1;34m\"bfjfbgbjfgj\"\u001b[0m\u001b[1;33m)\u001b[0m\u001b[1;33m\u001b[0m\u001b[1;33m\u001b[0m\u001b[0m\n\u001b[0m",
      "\u001b[1;31mValueError\u001b[0m: I/O operation on closed file."
     ]
    }
   ],
   "source": [
    "f.write(\"bfjfbgbjfgj\")"
   ]
  },
  {
   "cell_type": "code",
   "execution_count": 81,
   "id": "0c2676f9",
   "metadata": {},
   "outputs": [],
   "source": [
    "f = open(\"test21.txt\" , 'a')"
   ]
  },
  {
   "cell_type": "code",
   "execution_count": 82,
   "id": "adffc436",
   "metadata": {},
   "outputs": [
    {
     "data": {
      "text/plain": [
       "16"
      ]
     },
     "execution_count": 82,
     "metadata": {},
     "output_type": "execute_result"
    }
   ],
   "source": [
    "f.write(\"dcdvdvdvkvk dckd\")"
   ]
  },
  {
   "cell_type": "code",
   "execution_count": 83,
   "id": "d6f73134",
   "metadata": {},
   "outputs": [],
   "source": [
    "f.close()"
   ]
  },
  {
   "cell_type": "code",
   "execution_count": 84,
   "id": "77f4a378",
   "metadata": {},
   "outputs": [
    {
     "data": {
      "text/plain": [
       "'test21.txt'"
      ]
     },
     "execution_count": 84,
     "metadata": {},
     "output_type": "execute_result"
    }
   ],
   "source": [
    "f.name"
   ]
  },
  {
   "cell_type": "code",
   "execution_count": 89,
   "id": "faba7995",
   "metadata": {},
   "outputs": [
    {
     "data": {
      "text/plain": [
       "True"
      ]
     },
     "execution_count": 89,
     "metadata": {},
     "output_type": "execute_result"
    }
   ],
   "source": [
    "f.closed"
   ]
  },
  {
   "cell_type": "code",
   "execution_count": 90,
   "id": "b3169bdd",
   "metadata": {},
   "outputs": [
    {
     "data": {
      "text/plain": [
       "'a'"
      ]
     },
     "execution_count": 90,
     "metadata": {},
     "output_type": "execute_result"
    }
   ],
   "source": [
    "f.mode"
   ]
  },
  {
   "cell_type": "code",
   "execution_count": 91,
   "id": "2f0054e9",
   "metadata": {},
   "outputs": [
    {
     "ename": "ValueError",
     "evalue": "I/O operation on closed file.",
     "output_type": "error",
     "traceback": [
      "\u001b[1;31m---------------------------------------------------------------------------\u001b[0m",
      "\u001b[1;31mValueError\u001b[0m                                Traceback (most recent call last)",
      "\u001b[1;32mC:\\Users\\ADMIN-~1\\AppData\\Local\\Temp/ipykernel_6916/2712418217.py\u001b[0m in \u001b[0;36m<module>\u001b[1;34m\u001b[0m\n\u001b[1;32m----> 1\u001b[1;33m \u001b[0mf\u001b[0m\u001b[1;33m.\u001b[0m\u001b[0mseek\u001b[0m\u001b[1;33m(\u001b[0m\u001b[1;36m15\u001b[0m\u001b[1;33m)\u001b[0m\u001b[1;33m\u001b[0m\u001b[1;33m\u001b[0m\u001b[0m\n\u001b[0m",
      "\u001b[1;31mValueError\u001b[0m: I/O operation on closed file."
     ]
    }
   ],
   "source": [
    "f.seek(15)"
   ]
  },
  {
   "cell_type": "code",
   "execution_count": 97,
   "id": "b8ba28af",
   "metadata": {},
   "outputs": [],
   "source": [
    "f = open(\"test21.txt\")"
   ]
  },
  {
   "cell_type": "code",
   "execution_count": 102,
   "id": "da52c0bd",
   "metadata": {},
   "outputs": [
    {
     "data": {
      "text/plain": [
       "0"
      ]
     },
     "execution_count": 102,
     "metadata": {},
     "output_type": "execute_result"
    }
   ],
   "source": [
    "f.seek(0)"
   ]
  },
  {
   "cell_type": "code",
   "execution_count": 103,
   "id": "8024c0e5",
   "metadata": {},
   "outputs": [
    {
     "data": {
      "text/plain": [
       "''"
      ]
     },
     "execution_count": 103,
     "metadata": {},
     "output_type": "execute_result"
    }
   ],
   "source": [
    "f.read()"
   ]
  },
  {
   "cell_type": "code",
   "execution_count": 105,
   "id": "fc202c49",
   "metadata": {},
   "outputs": [],
   "source": [
    "l = [2,3,4,5,6]\n",
    "l1 = []\n",
    "for i in l :\n",
    "    l1.append(i**2)"
   ]
  },
  {
   "cell_type": "code",
   "execution_count": 106,
   "id": "e351a001",
   "metadata": {},
   "outputs": [
    {
     "data": {
      "text/plain": [
       "[4, 9, 16, 25, 36]"
      ]
     },
     "execution_count": 106,
     "metadata": {},
     "output_type": "execute_result"
    }
   ],
   "source": [
    "l1"
   ]
  },
  {
   "cell_type": "code",
   "execution_count": null,
   "id": "0d7732df",
   "metadata": {},
   "outputs": [],
   "source": []
  },
  {
   "cell_type": "code",
   "execution_count": 108,
   "id": "e40534c3",
   "metadata": {},
   "outputs": [],
   "source": [
    "def sq(n):\n",
    "    return n**2"
   ]
  },
  {
   "cell_type": "code",
   "execution_count": 109,
   "id": "2f517cf6",
   "metadata": {},
   "outputs": [
    {
     "data": {
      "text/plain": [
       "<map at 0x2df7b061a90>"
      ]
     },
     "execution_count": 109,
     "metadata": {},
     "output_type": "execute_result"
    }
   ],
   "source": [
    "map(sq ,l)"
   ]
  },
  {
   "cell_type": "code",
   "execution_count": 110,
   "id": "4003091f",
   "metadata": {},
   "outputs": [
    {
     "data": {
      "text/plain": [
       "[4, 9, 16, 25, 36]"
      ]
     },
     "execution_count": 110,
     "metadata": {},
     "output_type": "execute_result"
    }
   ],
   "source": [
    "list(map(sq ,l))"
   ]
  },
  {
   "cell_type": "code",
   "execution_count": 111,
   "id": "6d2ed4c4",
   "metadata": {},
   "outputs": [
    {
     "data": {
      "text/plain": [
       "[2, 3, 4, 5, 6]"
      ]
     },
     "execution_count": 111,
     "metadata": {},
     "output_type": "execute_result"
    }
   ],
   "source": [
    "l"
   ]
  },
  {
   "cell_type": "code",
   "execution_count": 112,
   "id": "071bf810",
   "metadata": {},
   "outputs": [
    {
     "data": {
      "text/plain": [
       "<map at 0x2df7b0615e0>"
      ]
     },
     "execution_count": 112,
     "metadata": {},
     "output_type": "execute_result"
    }
   ],
   "source": [
    "map(lambda x : str(x) , l)"
   ]
  },
  {
   "cell_type": "code",
   "execution_count": 113,
   "id": "8c136053",
   "metadata": {},
   "outputs": [
    {
     "data": {
      "text/plain": [
       "['2', '3', '4', '5', '6']"
      ]
     },
     "execution_count": 113,
     "metadata": {},
     "output_type": "execute_result"
    }
   ],
   "source": [
    "list(map(lambda x : str(x) , l))"
   ]
  },
  {
   "cell_type": "code",
   "execution_count": 114,
   "id": "873442a3",
   "metadata": {},
   "outputs": [],
   "source": [
    "def str_c(n) :\n",
    "    return str(n)"
   ]
  },
  {
   "cell_type": "code",
   "execution_count": 115,
   "id": "8b3a8a1b",
   "metadata": {},
   "outputs": [
    {
     "data": {
      "text/plain": [
       "['2', '3', '4', '5', '6']"
      ]
     },
     "execution_count": 115,
     "metadata": {},
     "output_type": "execute_result"
    }
   ],
   "source": [
    "list(map(str_c , l))"
   ]
  },
  {
   "cell_type": "code",
   "execution_count": 117,
   "id": "09c2d1fa",
   "metadata": {},
   "outputs": [],
   "source": [
    "from functools import reduce "
   ]
  },
  {
   "cell_type": "code",
   "execution_count": 119,
   "id": "4cd5a46f",
   "metadata": {},
   "outputs": [],
   "source": [
    "l1 = [2, 3, 4, 5, 6,25,5,6,7]"
   ]
  },
  {
   "cell_type": "code",
   "execution_count": 121,
   "id": "7db6e6fc",
   "metadata": {},
   "outputs": [
    {
     "data": {
      "text/plain": [
       "63"
      ]
     },
     "execution_count": 121,
     "metadata": {},
     "output_type": "execute_result"
    }
   ],
   "source": [
    "reduce(lambda a, b : a+b ,l1)"
   ]
  },
  {
   "cell_type": "code",
   "execution_count": 122,
   "id": "cfeafc72",
   "metadata": {},
   "outputs": [
    {
     "data": {
      "text/plain": [
       "3780000"
      ]
     },
     "execution_count": 122,
     "metadata": {},
     "output_type": "execute_result"
    }
   ],
   "source": [
    "reduce(lambda a, b : a*b ,l1)"
   ]
  },
  {
   "cell_type": "code",
   "execution_count": 123,
   "id": "df36ee0f",
   "metadata": {},
   "outputs": [],
   "source": [
    "l1 = [2, 3, 4, 5, 6,25,5,6,7]"
   ]
  },
  {
   "cell_type": "code",
   "execution_count": 128,
   "id": "9093cc4f",
   "metadata": {},
   "outputs": [
    {
     "data": {
      "text/plain": [
       "<filter at 0x2df7b0612e0>"
      ]
     },
     "execution_count": 128,
     "metadata": {},
     "output_type": "execute_result"
    }
   ],
   "source": [
    "filter(lambda x : x%2 , l1)"
   ]
  },
  {
   "cell_type": "code",
   "execution_count": 129,
   "id": "0dd597f7",
   "metadata": {},
   "outputs": [
    {
     "data": {
      "text/plain": [
       "[3, 5]"
      ]
     },
     "execution_count": 129,
     "metadata": {},
     "output_type": "execute_result"
    }
   ],
   "source": [
    "list(filter(lambda x : x%2 , l))"
   ]
  },
  {
   "cell_type": "code",
   "execution_count": 130,
   "id": "42087bed",
   "metadata": {},
   "outputs": [],
   "source": [
    "def check_even(n):\n",
    "    if n%2 == 0 :\n",
    "        return True"
   ]
  },
  {
   "cell_type": "code",
   "execution_count": 131,
   "id": "0d231ca9",
   "metadata": {},
   "outputs": [
    {
     "data": {
      "text/plain": [
       "<filter at 0x2df7b061d60>"
      ]
     },
     "execution_count": 131,
     "metadata": {},
     "output_type": "execute_result"
    }
   ],
   "source": [
    "filter(check_even , l1)"
   ]
  },
  {
   "cell_type": "code",
   "execution_count": 132,
   "id": "136c6b66",
   "metadata": {},
   "outputs": [
    {
     "data": {
      "text/plain": [
       "[2, 4, 6, 6]"
      ]
     },
     "execution_count": 132,
     "metadata": {},
     "output_type": "execute_result"
    }
   ],
   "source": [
    "list(filter(check_even , l1))"
   ]
  },
  {
   "cell_type": "code",
   "execution_count": null,
   "id": "7c666ade",
   "metadata": {},
   "outputs": [],
   "source": []
  }
 ],
 "metadata": {
  "kernelspec": {
   "display_name": "Python 3 (ipykernel)",
   "language": "python",
   "name": "python3"
  },
  "language_info": {
   "codemirror_mode": {
    "name": "ipython",
    "version": 3
   },
   "file_extension": ".py",
   "mimetype": "text/x-python",
   "name": "python",
   "nbconvert_exporter": "python",
   "pygments_lexer": "ipython3",
   "version": "3.9.7"
  }
 },
 "nbformat": 4,
 "nbformat_minor": 5
}
