{
 "cells": [
  {
   "cell_type": "code",
   "execution_count": 1,
   "id": "09c734ea",
   "metadata": {},
   "outputs": [
    {
     "name": "stdout",
     "output_type": "stream",
     "text": [
      "this is my first\n"
     ]
    }
   ],
   "source": [
    "a = 10\n",
    "if a == 10:\n",
    "    print(\"this is my first\")"
   ]
  },
  {
   "cell_type": "code",
   "execution_count": 3,
   "id": "66fa4052",
   "metadata": {},
   "outputs": [],
   "source": [
    "a = 10\n",
    "if a == 11:\n",
    "    print(\"this is my first\")"
   ]
  },
  {
   "cell_type": "code",
   "execution_count": null,
   "id": "e1697367",
   "metadata": {},
   "outputs": [],
   "source": []
  },
  {
   "cell_type": "code",
   "execution_count": null,
   "id": "f62e1908",
   "metadata": {},
   "outputs": [],
   "source": [
    "IF condition failed so its blank output "
   ]
  },
  {
   "cell_type": "code",
   "execution_count": 4,
   "id": "66214275",
   "metadata": {},
   "outputs": [],
   "source": [
    "  a = 10\n",
    "if a > 5:\n",
    "    pass"
   ]
  },
  {
   "cell_type": "code",
   "execution_count": null,
   "id": "cbd01fb7",
   "metadata": {},
   "outputs": [],
   "source": []
  },
  {
   "cell_type": "code",
   "execution_count": null,
   "id": "3f789757",
   "metadata": {},
   "outputs": [],
   "source": [
    "IF condition failed so its blank output pass is keyword to execute"
   ]
  },
  {
   "cell_type": "code",
   "execution_count": 6,
   "id": "9a7de527",
   "metadata": {},
   "outputs": [
    {
     "name": "stdout",
     "output_type": "stream",
     "text": [
      "Print this is true\n"
     ]
    }
   ],
   "source": [
    "  a = 10\n",
    "if a > 8:\n",
    "    print(\"Print this is true\")"
   ]
  },
  {
   "cell_type": "code",
   "execution_count": 7,
   "id": "5a52af4e",
   "metadata": {},
   "outputs": [
    {
     "name": "stdout",
     "output_type": "stream",
     "text": [
      "Print this is true\n"
     ]
    }
   ],
   "source": [
    "  a = 10\n",
    "if a != 11:\n",
    "    print(\"Print this is true\")\n",
    "else :\n",
    "    print(\"print this\")"
   ]
  },
  {
   "cell_type": "code",
   "execution_count": 8,
   "id": "7a231343",
   "metadata": {},
   "outputs": [
    {
     "name": "stdout",
     "output_type": "stream",
     "text": [
      "print this\n"
     ]
    }
   ],
   "source": [
    "  a = 10\n",
    "if a == 11:\n",
    "    print(\"Print this is true\")\n",
    "else :\n",
    "    print(\"print this\")"
   ]
  },
  {
   "cell_type": "code",
   "execution_count": 9,
   "id": "1b7dfbb9",
   "metadata": {},
   "outputs": [
    {
     "name": "stdout",
     "output_type": "stream",
     "text": [
      "All the blocks\n"
     ]
    }
   ],
   "source": [
    " a = 10\n",
    "if a == 12:\n",
    "    print(\"Print this is false \")\n",
    "elif a == 11:\n",
    "    print(\"we are  trying to compare 10 with 11\")\n",
    "else :\n",
    "    print(\"All the blocks\")\n",
    " "
   ]
  },
  {
   "cell_type": "code",
   "execution_count": 10,
   "id": "7281039d",
   "metadata": {},
   "outputs": [
    {
     "name": "stdout",
     "output_type": "stream",
     "text": [
      "we are  trying to compare 10 with 11\n"
     ]
    }
   ],
   "source": [
    " a = 10\n",
    "if a == 12:\n",
    "    print(\"Print this is false \")\n",
    "elif a == 10:\n",
    "    print(\"we are  trying to compare 10 with 11\")\n",
    "else :\n",
    "    print(\"All the blocks\")"
   ]
  },
  {
   "cell_type": "code",
   "execution_count": 12,
   "id": "e602e713",
   "metadata": {},
   "outputs": [
    {
     "name": "stdout",
     "output_type": "stream",
     "text": [
      " Buy shirt done\n"
     ]
    }
   ],
   "source": [
    "price = 500\n",
    "if price > 500 :\n",
    "    print(\" Dont Buy shirt done\")\n",
    "elif price <= 500 :\n",
    "    print(\" Buy shirt done\")"
   ]
  },
  {
   "cell_type": "code",
   "execution_count": 13,
   "id": "31459bd0",
   "metadata": {},
   "outputs": [
    {
     "ename": "SyntaxError",
     "evalue": "invalid syntax (Temp/ipykernel_20616/1451323881.py, line 6)",
     "output_type": "error",
     "traceback": [
      "\u001b[1;36m  File \u001b[1;32m\"C:\\Users\\ADMIN-~1\\AppData\\Local\\Temp/ipykernel_20616/1451323881.py\"\u001b[1;36m, line \u001b[1;32m6\u001b[0m\n\u001b[1;33m    else price == 500:\u001b[0m\n\u001b[1;37m         ^\u001b[0m\n\u001b[1;31mSyntaxError\u001b[0m\u001b[1;31m:\u001b[0m invalid syntax\n"
     ]
    }
   ],
   "source": [
    "price = 500\n",
    "if price > 500 :\n",
    "    print(\" Dont Buy shirt done\")\n",
    "elif price < 500 :\n",
    "    print(\" Buy shirt done\")\n",
    "else price == 500:\n",
    "    print(\"dont know\")\n"
   ]
  },
  {
   "cell_type": "code",
   "execution_count": null,
   "id": "305cff4e",
   "metadata": {},
   "outputs": [],
   "source": [
    "we cant use else as conditon  thats why getting error"
   ]
  },
  {
   "cell_type": "code",
   "execution_count": 14,
   "id": "2132c942",
   "metadata": {},
   "outputs": [
    {
     "name": "stdout",
     "output_type": "stream",
     "text": [
      "dont know\n"
     ]
    }
   ],
   "source": [
    "price = 500\n",
    "if price > 500 :\n",
    "    print(\" Dont Buy shirt done\")\n",
    "elif price < 500 :\n",
    "    print(\" Buy shirt done\")\n",
    "else :\n",
    "    print(\"dont know\")"
   ]
  },
  {
   "cell_type": "code",
   "execution_count": 15,
   "id": "270257cc",
   "metadata": {},
   "outputs": [
    {
     "data": {
      "text/plain": [
       "True"
      ]
     },
     "execution_count": 15,
     "metadata": {},
     "output_type": "execute_result"
    }
   ],
   "source": [
    "l = [1,2,3,4,5,6]\n",
    "2 in l"
   ]
  },
  {
   "cell_type": "code",
   "execution_count": 16,
   "id": "336dfd18",
   "metadata": {},
   "outputs": [
    {
     "name": "stdout",
     "output_type": "stream",
     "text": [
      "try to perform task\n"
     ]
    }
   ],
   "source": [
    "if 2 in l:\n",
    "    print(\"try to perform task\")\n",
    "else :\n",
    "    print(\"do not perform task\")"
   ]
  },
  {
   "cell_type": "code",
   "execution_count": 17,
   "id": "0209f5e0",
   "metadata": {},
   "outputs": [
    {
     "name": "stdout",
     "output_type": "stream",
     "text": [
      "do not perform task\n"
     ]
    }
   ],
   "source": [
    "if 60 in l:\n",
    "    print(\"try to perform task\")\n",
    "else :\n",
    "    print(\"do not perform task\")"
   ]
  },
  {
   "cell_type": "code",
   "execution_count": 18,
   "id": "f8e0d6d9",
   "metadata": {},
   "outputs": [
    {
     "data": {
      "text/plain": [
       "[1, 2, 3, 4, 5, 6]"
      ]
     },
     "execution_count": 18,
     "metadata": {},
     "output_type": "execute_result"
    }
   ],
   "source": [
    "l"
   ]
  },
  {
   "cell_type": "code",
   "execution_count": 19,
   "id": "dcc99548",
   "metadata": {},
   "outputs": [
    {
     "name": "stdout",
     "output_type": "stream",
     "text": [
      "try to do a addition\n"
     ]
    }
   ],
   "source": [
    "if 1 in l :\n",
    "    print(\"try to do a addition\")\n",
    "elif 2 in l :\n",
    "    print(\"try to do sub\")\n",
    "elif 3 in l :\n",
    "    print(\"try to do mul\")"
   ]
  },
  {
   "cell_type": "code",
   "execution_count": 20,
   "id": "a3ff9fde",
   "metadata": {},
   "outputs": [
    {
     "name": "stdout",
     "output_type": "stream",
     "text": [
      "try to do sub\n"
     ]
    }
   ],
   "source": [
    "if 10 in l :\n",
    "    print(\"try to do a addition\")\n",
    "elif 2 in l :\n",
    "    print(\"try to do sub\")\n",
    "elif 3 in l :\n",
    "    print(\"try to do mul\")"
   ]
  },
  {
   "cell_type": "code",
   "execution_count": 21,
   "id": "441748cc",
   "metadata": {},
   "outputs": [
    {
     "name": "stdout",
     "output_type": "stream",
     "text": [
      "try to do sub\n",
      "this is new statement\n"
     ]
    }
   ],
   "source": [
    "if 10 in l :\n",
    "    print(\"try to do a addition\")\n",
    "elif 2 in l :\n",
    "    print(\"try to do sub\")\n",
    "elif 3 in l :\n",
    "    print(\"try to do mul\")\n",
    "if 4 in l :\n",
    "    print(\"this is new statement\")"
   ]
  },
  {
   "cell_type": "code",
   "execution_count": 22,
   "id": "99d89d00",
   "metadata": {},
   "outputs": [],
   "source": [
    "a = 400"
   ]
  },
  {
   "cell_type": "code",
   "execution_count": 23,
   "id": "3daab355",
   "metadata": {},
   "outputs": [
    {
     "name": "stdout",
     "output_type": "stream",
     "text": [
      "200\n"
     ]
    }
   ],
   "source": [
    "b = input()"
   ]
  },
  {
   "cell_type": "code",
   "execution_count": 24,
   "id": "f4fe4168",
   "metadata": {},
   "outputs": [
    {
     "data": {
      "text/plain": [
       "'200'"
      ]
     },
     "execution_count": 24,
     "metadata": {},
     "output_type": "execute_result"
    }
   ],
   "source": [
    "b"
   ]
  },
  {
   "cell_type": "code",
   "execution_count": 25,
   "id": "467ee035",
   "metadata": {},
   "outputs": [
    {
     "data": {
      "text/plain": [
       "str"
      ]
     },
     "execution_count": 25,
     "metadata": {},
     "output_type": "execute_result"
    }
   ],
   "source": [
    "type(b)"
   ]
  },
  {
   "cell_type": "code",
   "execution_count": null,
   "id": "0745a4d9",
   "metadata": {},
   "outputs": [],
   "source": [
    "input give output as string so need to change in integer"
   ]
  },
  {
   "cell_type": "code",
   "execution_count": null,
   "id": "68d58088",
   "metadata": {},
   "outputs": [],
   "source": [
    "b = int(input())"
   ]
  },
  {
   "cell_type": "code",
   "execution_count": 2,
   "id": "53bca780",
   "metadata": {},
   "outputs": [
    {
     "name": "stdout",
     "output_type": "stream",
     "text": [
      "600\n",
      "NA\n"
     ]
    }
   ],
   "source": [
    "price = int(input())\n",
    "if price < 500 :\n",
    "    print(\"i will able to buy\")\n",
    "    if price < 400 :\n",
    "        print(\"i will buy jacket\")\n",
    "    elif price < 300 :\n",
    "        print(\"i will buy shirt\")\n",
    "    else :\n",
    "        print(\"i want nothing\")\n",
    "else :\n",
    "    print(\"NA\")\n",
    "    "
   ]
  },
  {
   "cell_type": "code",
   "execution_count": 4,
   "id": "39d48479",
   "metadata": {},
   "outputs": [
    {
     "name": "stdout",
     "output_type": "stream",
     "text": [
      "600\n",
      "NA\n",
      "lets buy\n"
     ]
    }
   ],
   "source": [
    "price = int(input())\n",
    "if price < 500 :\n",
    "    print(\"i will able to buy\")\n",
    "    if price < 400 :\n",
    "        print(\"i will buy jacket\")\n",
    "    elif price < 300 :\n",
    "        print(\"i will buy shirt\")\n",
    "    else :\n",
    "        print(\"i want nothing\")\n",
    "else :\n",
    "    print(\"NA\")\n",
    "    if price > 500 :\n",
    "        print(\"lets buy\")"
   ]
  },
  {
   "cell_type": "code",
   "execution_count": 5,
   "id": "17f391f8",
   "metadata": {},
   "outputs": [
    {
     "name": "stdout",
     "output_type": "stream",
     "text": [
      "700\n",
      "NA\n",
      "ready for GRE\n"
     ]
    }
   ],
   "source": [
    "marks = int(input())\n",
    "if marks < 600 :\n",
    "    print(\"No GRE\")\n",
    "    if marks < 500 :\n",
    "        print(\"ready for toffel\")\n",
    "    elif marks < 400 :\n",
    "        print(\"ready for toffel\")\n",
    "    else :\n",
    "        print(\"i want nothing\")\n",
    "else :\n",
    "    print(\"NA\")\n",
    "    if marks > 600 :\n",
    "        print(\"ready for GRE\")"
   ]
  },
  {
   "cell_type": "code",
   "execution_count": 6,
   "id": "289f0837",
   "metadata": {},
   "outputs": [
    {
     "name": "stdout",
     "output_type": "stream",
     "text": [
      "enter a floating point number324\n",
      "enter number is negative number\n"
     ]
    }
   ],
   "source": [
    "val = float(input(\"enter a floating point number\"))\n",
    "if val == 0 :\n",
    "    if val == 0 :\n",
    "        print(\"enteer value is zero\")\n",
    "    else :\n",
    "        print(\" enter value is positive number\")\n",
    "else :\n",
    "    print(\"enter number is negative number\")\n",
    "    "
   ]
  },
  {
   "cell_type": "code",
   "execution_count": 7,
   "id": "0e439220",
   "metadata": {},
   "outputs": [
    {
     "name": "stdout",
     "output_type": "stream",
     "text": [
      "try to do something\n"
     ]
    }
   ],
   "source": [
    "a = 10\n",
    "if a <= 10 :\n",
    "    print(\"try to do something\")"
   ]
  },
  {
   "cell_type": "code",
   "execution_count": 8,
   "id": "b5b36ec7",
   "metadata": {},
   "outputs": [
    {
     "name": "stdout",
     "output_type": "stream",
     "text": [
      "try to do something\n"
     ]
    }
   ],
   "source": [
    "a = 10\n",
    "if a < 10 or a == 10:\n",
    "    print(\"try to do something\")"
   ]
  },
  {
   "cell_type": "code",
   "execution_count": 9,
   "id": "57b99bca",
   "metadata": {},
   "outputs": [],
   "source": [
    "a = 10\n",
    "if a < 10 or a > 10:\n",
    "    print(\"try to do something\")"
   ]
  },
  {
   "cell_type": "code",
   "execution_count": 12,
   "id": "fffe1016",
   "metadata": {},
   "outputs": [],
   "source": [
    "a = 10\n",
    "if a < 10 and a == 10:\n",
    "    print(\"try to do something\")"
   ]
  },
  {
   "cell_type": "code",
   "execution_count": 13,
   "id": "3e5d2775",
   "metadata": {},
   "outputs": [
    {
     "name": "stdout",
     "output_type": "stream",
     "text": [
      "this is sudh\n"
     ]
    }
   ],
   "source": [
    "a = \"sudh\"\n",
    "if a == \"sudh\" and a == \"sudh\" :\n",
    "    print(\"this is sudh\")"
   ]
  },
  {
   "cell_type": "code",
   "execution_count": 15,
   "id": "11866cc4",
   "metadata": {},
   "outputs": [],
   "source": [
    "a = 10\n",
    "b = 11\n",
    "c = 12\n",
    "d = 13\n",
    "if a == 9 and b == 11 and c == 12 and c == 13 :\n",
    "    print(\"let do\")"
   ]
  },
  {
   "cell_type": "code",
   "execution_count": 16,
   "id": "4a5603e7",
   "metadata": {},
   "outputs": [
    {
     "name": "stdout",
     "output_type": "stream",
     "text": [
      "let do\n"
     ]
    }
   ],
   "source": [
    "a = 10\n",
    "b = 11\n",
    "c = 12\n",
    "d = 13\n",
    "if a == 9 or b == 11 or c == 12 or c == 13 :\n",
    "    print(\"let do\")"
   ]
  },
  {
   "cell_type": "code",
   "execution_count": 17,
   "id": "36b7a8b1",
   "metadata": {},
   "outputs": [],
   "source": [
    "d = {'key1':\"value\", \"key2\" : \"sudh\", \"key3\" : \"ineoron\"}"
   ]
  },
  {
   "cell_type": "code",
   "execution_count": 19,
   "id": "a6875f29",
   "metadata": {},
   "outputs": [
    {
     "name": "stdout",
     "output_type": "stream",
     "text": [
      "All values are varified\n",
      "dict_values(['value', 'sudh', 'ineoron'])\n"
     ]
    }
   ],
   "source": [
    "if d['key1'] == \"value\" and d['key2'] and d['key3'] == \"ineoron\" :\n",
    "    print(\"All values are varified\")\n",
    "    print(d.values())\n",
    "else :\n",
    "    print(\"All are not varified\")\n"
   ]
  },
  {
   "cell_type": "code",
   "execution_count": 20,
   "id": "21c51599",
   "metadata": {},
   "outputs": [],
   "source": [
    "l = [1,2,3,4,5,\"sudh\" , 24.25]"
   ]
  },
  {
   "cell_type": "code",
   "execution_count": 21,
   "id": "41aea00c",
   "metadata": {},
   "outputs": [
    {
     "data": {
      "text/plain": [
       "1"
      ]
     },
     "execution_count": 21,
     "metadata": {},
     "output_type": "execute_result"
    }
   ],
   "source": [
    "l[0]"
   ]
  },
  {
   "cell_type": "code",
   "execution_count": 22,
   "id": "769ab9dd",
   "metadata": {},
   "outputs": [
    {
     "data": {
      "text/plain": [
       "2"
      ]
     },
     "execution_count": 22,
     "metadata": {},
     "output_type": "execute_result"
    }
   ],
   "source": [
    "l[1]"
   ]
  },
  {
   "cell_type": "code",
   "execution_count": 23,
   "id": "e670b5e1",
   "metadata": {},
   "outputs": [
    {
     "data": {
      "text/plain": [
       "[3, 4, 5]"
      ]
     },
     "execution_count": 23,
     "metadata": {},
     "output_type": "execute_result"
    }
   ],
   "source": [
    "l[2:5]"
   ]
  },
  {
   "cell_type": "code",
   "execution_count": 25,
   "id": "6d328832",
   "metadata": {
    "scrolled": true
   },
   "outputs": [
    {
     "name": "stdout",
     "output_type": "stream",
     "text": [
      "2\n",
      "3\n",
      "4\n",
      "5\n",
      "6\n",
      "sudh[1, 2, 3, 4, 5, 'sudh', 24.25]\n",
      "25.25\n"
     ]
    }
   ],
   "source": [
    "for i in l :\n",
    "    if type(i) == int or type(i) == float :\n",
    "        print(i+1)\n",
    "    elif type(i) == str :\n",
    "        print(i + str(l))\n",
    " "
   ]
  },
  {
   "cell_type": "code",
   "execution_count": 26,
   "id": "83fe4b47",
   "metadata": {},
   "outputs": [],
   "source": [
    "l1 = []\n",
    "for i in l :\n",
    "    if type(i) == int:\n",
    "        l1.append(i)"
   ]
  },
  {
   "cell_type": "code",
   "execution_count": 27,
   "id": "cb5af40b",
   "metadata": {},
   "outputs": [
    {
     "data": {
      "text/plain": [
       "[1, 2, 3, 4, 5]"
      ]
     },
     "execution_count": 27,
     "metadata": {},
     "output_type": "execute_result"
    }
   ],
   "source": [
    "l1"
   ]
  },
  {
   "cell_type": "code",
   "execution_count": null,
   "id": "78b9458a",
   "metadata": {},
   "outputs": [],
   "source": [
    "l = [1,2,3,4,5,\"sudh\" , 24.25]"
   ]
  },
  {
   "cell_type": "code",
   "execution_count": 3,
   "id": "605b9d80",
   "metadata": {},
   "outputs": [],
   "source": [
    "a = 10\n",
    "b = 11\n",
    "c = 12\n",
    "d = 13\n",
    "if a == 9 and b == 11 and c == 12 and d == 13 :\n",
    "    print(\"its true\")\n"
   ]
  },
  {
   "cell_type": "code",
   "execution_count": null,
   "id": "2f1a2efa",
   "metadata": {},
   "outputs": [],
   "source": [
    "00 00 = 00,  01 00 = 00, 01 01 = 01, 00 01 = 00  for and condition"
   ]
  },
  {
   "cell_type": "code",
   "execution_count": null,
   "id": "de7b67da",
   "metadata": {},
   "outputs": [],
   "source": [
    "00 00 = 00,  01 00 = 01, 01 01 = 01, 00 01 = 01 for or condition"
   ]
  },
  {
   "cell_type": "code",
   "execution_count": 4,
   "id": "7e2a6d19",
   "metadata": {},
   "outputs": [
    {
     "name": "stdout",
     "output_type": "stream",
     "text": [
      "its true\n"
     ]
    }
   ],
   "source": [
    "a = 10\n",
    "b = 11\n",
    "c = 12\n",
    "d = 13\n",
    "if a == 9 or b == 11 or c == 12 or d == 13 :\n",
    "    print(\"its true\")"
   ]
  },
  {
   "cell_type": "code",
   "execution_count": 6,
   "id": "ea1799b7",
   "metadata": {},
   "outputs": [
    {
     "name": "stdout",
     "output_type": "stream",
     "text": [
      "24000\n",
      "No comment\n"
     ]
    }
   ],
   "source": [
    "salary = int(input())\n",
    "if salary > 25000 :\n",
    "    print(\"I going to purchase laptop\")\n",
    "    if salary < 25000 :\n",
    "        print(\"I am not going to purchase laptop\")\n",
    "    elif salary < 23000 :\n",
    "        print(\"I am going to purchase a mobile\")\n",
    "    elif salary < 21000 :\n",
    "        print(\"I am not going to purchase anything\")\n",
    "    else :\n",
    "        print(\"you have not good salary\")\n",
    "else :\n",
    "    print(\"No comment\")\n",
    "    "
   ]
  },
  {
   "cell_type": "code",
   "execution_count": 10,
   "id": "883d10d0",
   "metadata": {},
   "outputs": [],
   "source": [
    "d = {'key1':\"value\", \"key2\" : \"sudh\", \"key3\" : \"ineoron\"}"
   ]
  },
  {
   "cell_type": "code",
   "execution_count": 11,
   "id": "043e636d",
   "metadata": {},
   "outputs": [
    {
     "name": "stdout",
     "output_type": "stream",
     "text": [
      "All values are varified\n",
      "dict_values(['value', 'sudh', 'ineoron'])\n"
     ]
    }
   ],
   "source": [
    "if d['key1'] == \"value\" and d['key2'] == \"sudh\" and d['key3'] == \"ineoron\" :\n",
    "    print(\"All values are varified\")\n",
    "    print(d.values())\n",
    "else :\n",
    "    print(\"All are not varified\")"
   ]
  },
  {
   "cell_type": "code",
   "execution_count": 12,
   "id": "b925929f",
   "metadata": {},
   "outputs": [],
   "source": [
    "d = {'key1':\"value\", \"key2\" : \"sudh\", \"key3\" : \"ineoron\"}"
   ]
  },
  {
   "cell_type": "code",
   "execution_count": 13,
   "id": "eda71b99",
   "metadata": {},
   "outputs": [
    {
     "name": "stdout",
     "output_type": "stream",
     "text": [
      "All values are varified\n",
      "dict_values(['value', 'sudh', 'ineoron'])\n"
     ]
    }
   ],
   "source": [
    "if d['key1'] == \"value\" or d['key2'] == \"sudh\" or d['key3'] == \"ineoron\" :\n",
    "    print(\"All values are varified\")\n",
    "    print(d.values())\n",
    "else :\n",
    "    print(\"All are not varified\")"
   ]
  },
  {
   "cell_type": "code",
   "execution_count": 14,
   "id": "bd2d5529",
   "metadata": {},
   "outputs": [],
   "source": [
    "l = [1,2,3,4,5,6,6]"
   ]
  },
  {
   "cell_type": "code",
   "execution_count": 15,
   "id": "ec1789b8",
   "metadata": {},
   "outputs": [
    {
     "data": {
      "text/plain": [
       "[1, 2, 3, 4, 5, 6, 6]"
      ]
     },
     "execution_count": 15,
     "metadata": {},
     "output_type": "execute_result"
    }
   ],
   "source": [
    "l"
   ]
  },
  {
   "cell_type": "code",
   "execution_count": 34,
   "id": "de051e0f",
   "metadata": {},
   "outputs": [
    {
     "name": "stdout",
     "output_type": "stream",
     "text": [
      "3\n",
      "4\n",
      "5\n",
      "6\n",
      "7\n",
      "8\n",
      "8\n"
     ]
    }
   ],
   "source": [
    "l1 = []\n",
    "for i in l :\n",
    "    if type(i) == int :\n",
    "        l1.append(i)\n",
    "        print(i+2)"
   ]
  },
  {
   "cell_type": "code",
   "execution_count": 30,
   "id": "5de8d918",
   "metadata": {},
   "outputs": [
    {
     "data": {
      "text/plain": [
       "[1, 2, 3, 4, 5, 6, 6]"
      ]
     },
     "execution_count": 30,
     "metadata": {},
     "output_type": "execute_result"
    }
   ],
   "source": [
    "l1"
   ]
  },
  {
   "cell_type": "code",
   "execution_count": 35,
   "id": "cbf581a7",
   "metadata": {},
   "outputs": [],
   "source": [
    "l = [1,2,3,4,5,\"sudh\" , 24.25]"
   ]
  },
  {
   "cell_type": "code",
   "execution_count": 54,
   "id": "d7e4fdbd",
   "metadata": {},
   "outputs": [
    {
     "name": "stdout",
     "output_type": "stream",
     "text": [
      "2\n",
      "3\n",
      "4\n",
      "5\n",
      "6\n",
      "sudh[1, 2, 3, 4, 5, 'sudh', 24.25]\n",
      "25.25\n"
     ]
    }
   ],
   "source": [
    "for i in l :\n",
    "    if type(i) == int or type(i) == float :\n",
    "        print(i+1)\n",
    "    elif type(i) == str :\n",
    "        print(i + str(l))"
   ]
  },
  {
   "cell_type": "code",
   "execution_count": 41,
   "id": "20b9bcd4",
   "metadata": {},
   "outputs": [],
   "source": [
    "l = [1,2,3,4,5,\"sudh\" , 24.25]"
   ]
  },
  {
   "cell_type": "code",
   "execution_count": 56,
   "id": "d9b4e9e0",
   "metadata": {},
   "outputs": [
    {
     "name": "stdout",
     "output_type": "stream",
     "text": [
      "2\n",
      "3\n",
      "4\n",
      "5\n",
      "6\n",
      "sudh1\n",
      "25.25\n"
     ]
    }
   ],
   "source": [
    "for i in l :\n",
    "    if type(i) == int or type(i) == float :\n",
    "        print(i+1)\n",
    "    elif type(i) == str :\n",
    "        print(str(i) + str(1))\n",
    "     "
   ]
  },
  {
   "cell_type": "code",
   "execution_count": 57,
   "id": "8856039c",
   "metadata": {},
   "outputs": [
    {
     "data": {
      "text/plain": [
       "'sudh1'"
      ]
     },
     "execution_count": 57,
     "metadata": {},
     "output_type": "execute_result"
    }
   ],
   "source": [
    "a = \"sudh\"\n",
    "b = str(1)\n",
    "a+b"
   ]
  },
  {
   "cell_type": "code",
   "execution_count": null,
   "id": "104834f5",
   "metadata": {},
   "outputs": [],
   "source": []
  },
  {
   "cell_type": "code",
   "execution_count": null,
   "id": "d3747091",
   "metadata": {},
   "outputs": [],
   "source": []
  }
 ],
 "metadata": {
  "kernelspec": {
   "display_name": "Python 3 (ipykernel)",
   "language": "python",
   "name": "python3"
  },
  "language_info": {
   "codemirror_mode": {
    "name": "ipython",
    "version": 3
   },
   "file_extension": ".py",
   "mimetype": "text/x-python",
   "name": "python",
   "nbconvert_exporter": "python",
   "pygments_lexer": "ipython3",
   "version": "3.9.7"
  }
 },
 "nbformat": 4,
 "nbformat_minor": 5
}
