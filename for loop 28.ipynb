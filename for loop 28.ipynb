{
 "cells": [
  {
   "cell_type": "code",
   "execution_count": 1,
   "id": "b1737b83",
   "metadata": {},
   "outputs": [
    {
     "name": "stdout",
     "output_type": "stream",
     "text": [
      "sudh \n",
      "\n",
      "sudh sudh \n",
      "\n",
      "sudh sudh sudh \n",
      "\n",
      "sudh sudh sudh sudh \n",
      "\n"
     ]
    }
   ],
   "source": [
    "n = 4\n",
    "for i in range(4) :\n",
    "    for j in range(0, i+1) :\n",
    "        print(\"sudh\" , end = \" \")\n",
    "    print(\"\\n\")"
   ]
  },
  {
   "cell_type": "code",
   "execution_count": 3,
   "id": "4d1b52f5",
   "metadata": {},
   "outputs": [
    {
     "name": "stdout",
     "output_type": "stream",
     "text": [
      "               sudh \n",
      "          sudh sudh sudh \n",
      "     sudh sudh sudh sudh sudh \n",
      "sudh sudh sudh sudh sudh sudh sudh \n"
     ]
    }
   ],
   "source": [
    "n = 4\n",
    "for i in range(n) :\n",
    "    for j in range(i, n- 1) :\n",
    "        print(\" \"* len(\"sudh\") , end = \" \")\n",
    "    for j in range(i+1) :\n",
    "        print(\"sudh\" , end = \" \")\n",
    "    for j in range(i) :\n",
    "        print(\"sudh\" , end = \" \")\n",
    "    print()"
   ]
  },
  {
   "cell_type": "code",
   "execution_count": 4,
   "id": "f10cc193",
   "metadata": {},
   "outputs": [],
   "source": [
    "t = (3,23,45,65,78,2,4,5,6)"
   ]
  },
  {
   "cell_type": "code",
   "execution_count": 5,
   "id": "e7ac7c74",
   "metadata": {},
   "outputs": [
    {
     "name": "stdout",
     "output_type": "stream",
     "text": [
      "0 3\n",
      "1 23\n",
      "2 45\n",
      "3 65\n",
      "4 78\n",
      "5 2\n",
      "6 4\n",
      "7 5\n",
      "8 6\n"
     ]
    }
   ],
   "source": [
    "for i in range(len(t)) :\n",
    "    print(i,t[i])"
   ]
  },
  {
   "cell_type": "code",
   "execution_count": 6,
   "id": "a1917be0",
   "metadata": {},
   "outputs": [
    {
     "data": {
      "text/plain": [
       "range(0, 7)"
      ]
     },
     "execution_count": 6,
     "metadata": {},
     "output_type": "execute_result"
    }
   ],
   "source": [
    "s = \"ineoron\"\n",
    "range(len(s))"
   ]
  },
  {
   "cell_type": "code",
   "execution_count": 7,
   "id": "f2fa8947",
   "metadata": {},
   "outputs": [
    {
     "name": "stdout",
     "output_type": "stream",
     "text": [
      "0 i\n",
      "1 n\n",
      "2 e\n",
      "3 o\n",
      "4 r\n",
      "5 o\n",
      "6 n\n"
     ]
    }
   ],
   "source": [
    "for i in range(len(s)) :\n",
    "    print(i , s[i])"
   ]
  },
  {
   "cell_type": "code",
   "execution_count": null,
   "id": "72e6826f",
   "metadata": {},
   "outputs": [],
   "source": [
    "in reverse order "
   ]
  },
  {
   "cell_type": "code",
   "execution_count": 8,
   "id": "73d2d472",
   "metadata": {},
   "outputs": [
    {
     "data": {
      "text/plain": [
       "range(0, 7)"
      ]
     },
     "execution_count": 8,
     "metadata": {},
     "output_type": "execute_result"
    }
   ],
   "source": [
    "s = \"ineoron\"\n",
    "range(len(s))"
   ]
  },
  {
   "cell_type": "code",
   "execution_count": 11,
   "id": "d7b476ef",
   "metadata": {},
   "outputs": [
    {
     "data": {
      "text/plain": [
       "[0, 1, 2, 3, 4, 5, 6]"
      ]
     },
     "execution_count": 11,
     "metadata": {},
     "output_type": "execute_result"
    }
   ],
   "source": [
    "list(range(len(s)))"
   ]
  },
  {
   "cell_type": "code",
   "execution_count": 16,
   "id": "5d06851d",
   "metadata": {},
   "outputs": [
    {
     "data": {
      "text/plain": [
       "[6, 5, 4, 3, 2, 1, 0]"
      ]
     },
     "execution_count": 16,
     "metadata": {},
     "output_type": "execute_result"
    }
   ],
   "source": [
    "list(range(len(s)-1 , -1 , -1))"
   ]
  },
  {
   "cell_type": "code",
   "execution_count": 17,
   "id": "928bddad",
   "metadata": {},
   "outputs": [
    {
     "name": "stdout",
     "output_type": "stream",
     "text": [
      "6 n\n",
      "5 o\n",
      "4 r\n",
      "3 o\n",
      "2 e\n",
      "1 n\n",
      "0 i\n"
     ]
    }
   ],
   "source": [
    "for i in range(len(s)-1 , -1 , -1) :\n",
    "    print(i ,s[i])"
   ]
  },
  {
   "cell_type": "code",
   "execution_count": 18,
   "id": "76b03b1e",
   "metadata": {},
   "outputs": [],
   "source": [
    "d = {'key1': 'sudh','contact' : 'sudhir@gimail' ,\"postion\" : 'xyz'}"
   ]
  },
  {
   "cell_type": "code",
   "execution_count": 19,
   "id": "cd98239b",
   "metadata": {},
   "outputs": [
    {
     "data": {
      "text/plain": [
       "dict_items([('key1', 'sudh'), ('contact', 'sudhir@gimail'), ('postion', 'xyz')])"
      ]
     },
     "execution_count": 19,
     "metadata": {},
     "output_type": "execute_result"
    }
   ],
   "source": [
    "d.items()"
   ]
  },
  {
   "cell_type": "code",
   "execution_count": 21,
   "id": "67ea0681",
   "metadata": {},
   "outputs": [
    {
     "name": "stdout",
     "output_type": "stream",
     "text": [
      "('key1', 'sudh') <class 'tuple'> <class 'str'>\n",
      "('contact', 'sudhir@gimail') <class 'tuple'> <class 'str'>\n",
      "('postion', 'xyz') <class 'tuple'> <class 'str'>\n"
     ]
    }
   ],
   "source": [
    "for i in d.items():\n",
    "    print(i , type(i),type(i[1]))"
   ]
  },
  {
   "cell_type": "code",
   "execution_count": 22,
   "id": "df017956",
   "metadata": {},
   "outputs": [],
   "source": [
    "l = [\"sudh\" , \"kumar\" , 325645 , \"sudhir@gmail\" , 345, 354855]\n"
   ]
  },
  {
   "cell_type": "code",
   "execution_count": 25,
   "id": "711e21a1",
   "metadata": {},
   "outputs": [
    {
     "name": "stdout",
     "output_type": "stream",
     "text": [
      "[325645]\n",
      "[325645, 345]\n",
      "[325645, 345, 354855]\n"
     ]
    }
   ],
   "source": [
    "l1 = []\n",
    "for i in l :\n",
    "    if type(i) == int :\n",
    "        l1.append(i)\n",
    "        print(l1)\n"
   ]
  },
  {
   "cell_type": "code",
   "execution_count": 24,
   "id": "955b9f57",
   "metadata": {},
   "outputs": [
    {
     "data": {
      "text/plain": [
       "[325645, 345, 354855]"
      ]
     },
     "execution_count": 24,
     "metadata": {},
     "output_type": "execute_result"
    }
   ],
   "source": [
    "l1"
   ]
  },
  {
   "cell_type": "code",
   "execution_count": 26,
   "id": "e0446685",
   "metadata": {},
   "outputs": [],
   "source": [
    "d = {'key1': 'sudh','contact' : 'sudhir@gimail' ,\"postion\" : 'xyz'  , 345 : \"sudhir\"}"
   ]
  },
  {
   "cell_type": "code",
   "execution_count": 27,
   "id": "7b09ec8f",
   "metadata": {},
   "outputs": [
    {
     "data": {
      "text/plain": [
       "dict_items([('key1', 'sudh'), ('contact', 'sudhir@gimail'), ('postion', 'xyz')])"
      ]
     },
     "execution_count": 27,
     "metadata": {},
     "output_type": "execute_result"
    }
   ],
   "source": [
    "d.items()"
   ]
  },
  {
   "cell_type": "code",
   "execution_count": 2,
   "id": "93cea46c",
   "metadata": {},
   "outputs": [],
   "source": [
    "d = {'key1': 'sudh','contact' : 'sudhir@gimail' ,\"postion\" : 'xyz'  , 345 : \"sudhir\"}"
   ]
  },
  {
   "cell_type": "code",
   "execution_count": 4,
   "id": "6f44864d",
   "metadata": {},
   "outputs": [
    {
     "name": "stdout",
     "output_type": "stream",
     "text": [
      "key1\n",
      "contact\n",
      "postion\n",
      "345\n"
     ]
    }
   ],
   "source": [
    "for i in d :\n",
    "    print(i)"
   ]
  },
  {
   "cell_type": "code",
   "execution_count": 11,
   "id": "e5987cbd",
   "metadata": {},
   "outputs": [
    {
     "name": "stdout",
     "output_type": "stream",
     "text": [
      "345 : sudhir\n"
     ]
    }
   ],
   "source": [
    "for i in d :\n",
    "    if type(i) == int :\n",
    "        print(i ,\":\" , d[i])"
   ]
  },
  {
   "cell_type": "code",
   "execution_count": 6,
   "id": "b46d7343",
   "metadata": {},
   "outputs": [],
   "source": [
    "s = \"aaaabbccd\""
   ]
  },
  {
   "cell_type": "code",
   "execution_count": 7,
   "id": "36bf7ee9",
   "metadata": {},
   "outputs": [
    {
     "data": {
      "text/plain": [
       "{'a', 'b', 'c', 'd'}"
      ]
     },
     "execution_count": 7,
     "metadata": {},
     "output_type": "execute_result"
    }
   ],
   "source": [
    "set(s)"
   ]
  },
  {
   "cell_type": "code",
   "execution_count": 8,
   "id": "971271cf",
   "metadata": {},
   "outputs": [
    {
     "name": "stdout",
     "output_type": "stream",
     "text": [
      "d : 1\n",
      "c : 2\n",
      "b : 2\n",
      "a : 4\n"
     ]
    }
   ],
   "source": [
    "for i in set(s) :\n",
    "    print(i , \":\" , s.count(i))"
   ]
  },
  {
   "cell_type": "code",
   "execution_count": 9,
   "id": "75e4de91",
   "metadata": {},
   "outputs": [
    {
     "data": {
      "text/plain": [
       "4"
      ]
     },
     "execution_count": 9,
     "metadata": {},
     "output_type": "execute_result"
    }
   ],
   "source": [
    "s.count('a')"
   ]
  },
  {
   "cell_type": "code",
   "execution_count": null,
   "id": "44ede6be",
   "metadata": {},
   "outputs": [],
   "source": [
    "set(s) use for  showing used uniqe word,  s.count('a') used for count number of word."
   ]
  },
  {
   "cell_type": "code",
   "execution_count": 12,
   "id": "b3d678b5",
   "metadata": {},
   "outputs": [],
   "source": [
    "d = {'key1': 'sudh','contact' : 'sudhir@gimail' ,\"postion\" : 'xyz'  , 345 : \"sudhir\"}"
   ]
  },
  {
   "cell_type": "code",
   "execution_count": 19,
   "id": "285206c4",
   "metadata": {},
   "outputs": [
    {
     "ename": "IndentationError",
     "evalue": "unexpected indent (Temp/ipykernel_17192/3275920066.py, line 2)",
     "output_type": "error",
     "traceback": [
      "\u001b[1;36m  File \u001b[1;32m\"C:\\Users\\ADMIN-~1\\AppData\\Local\\Temp/ipykernel_17192/3275920066.py\"\u001b[1;36m, line \u001b[1;32m2\u001b[0m\n\u001b[1;33m    for j in i :\u001b[0m\n\u001b[1;37m    ^\u001b[0m\n\u001b[1;31mIndentationError\u001b[0m\u001b[1;31m:\u001b[0m unexpected indent\n"
     ]
    }
   ],
   "source": [
    " i = 345665826589566\n",
    "    for j in i :\n",
    "        print(j)"
   ]
  },
  {
   "cell_type": "code",
   "execution_count": 16,
   "id": "c52d33c1",
   "metadata": {},
   "outputs": [
    {
     "data": {
      "text/plain": [
       "'345665826589566'"
      ]
     },
     "execution_count": 16,
     "metadata": {},
     "output_type": "execute_result"
    }
   ],
   "source": [
    "i = 345665826589566 \n",
    "str(i)"
   ]
  },
  {
   "cell_type": "code",
   "execution_count": 23,
   "id": "4a625365",
   "metadata": {},
   "outputs": [
    {
     "ename": "SyntaxError",
     "evalue": "cannot assign to function call (Temp/ipykernel_17192/1391826696.py, line 2)",
     "output_type": "error",
     "traceback": [
      "\u001b[1;36m  File \u001b[1;32m\"C:\\Users\\ADMIN-~1\\AppData\\Local\\Temp/ipykernel_17192/1391826696.py\"\u001b[1;36m, line \u001b[1;32m2\u001b[0m\n\u001b[1;33m    str(i) = 345665826589566\u001b[0m\n\u001b[1;37m    ^\u001b[0m\n\u001b[1;31mSyntaxError\u001b[0m\u001b[1;31m:\u001b[0m cannot assign to function call\n"
     ]
    }
   ],
   "source": [
    " i = 345665826589566\n",
    "str(i) = 345665826589566\n",
    "    for j in str(i) :\n",
    "        print(j)"
   ]
  },
  {
   "cell_type": "code",
   "execution_count": 30,
   "id": "3ec295a6",
   "metadata": {},
   "outputs": [],
   "source": [
    "t = (\"sudh\" , \"kumar\" ,[1,2,3,4,5,6,7] ,(3,4,5,6), {3 : 3 ,\"key1\":\"sudh\" , \"key2\":\"kumar\"})"
   ]
  },
  {
   "cell_type": "code",
   "execution_count": 31,
   "id": "36c427b4",
   "metadata": {},
   "outputs": [
    {
     "name": "stdout",
     "output_type": "stream",
     "text": [
      "3\n",
      "3\n"
     ]
    }
   ],
   "source": [
    "for i in t : \n",
    "    if type(i) ==list or type(i) == tuple :\n",
    "        for j in i :\n",
    "            if j == 3 :\n",
    "                print(j)\n",
    "                \n"
   ]
  },
  {
   "cell_type": "code",
   "execution_count": null,
   "id": "8b6245eb",
   "metadata": {},
   "outputs": [],
   "source": []
  },
  {
   "cell_type": "code",
   "execution_count": null,
   "id": "505ba642",
   "metadata": {},
   "outputs": [],
   "source": []
  },
  {
   "cell_type": "code",
   "execution_count": null,
   "id": "0dd2566b",
   "metadata": {},
   "outputs": [],
   "source": [
    "for finding 3 for list & tuple & dictionary from the list"
   ]
  },
  {
   "cell_type": "code",
   "execution_count": 32,
   "id": "8b42a389",
   "metadata": {},
   "outputs": [
    {
     "name": "stdout",
     "output_type": "stream",
     "text": [
      "3\n",
      "3\n",
      "3\n",
      "3\n"
     ]
    }
   ],
   "source": [
    "for i in t : \n",
    "    if type(i) ==list or type(i) == tuple :\n",
    "        for j in i :\n",
    "            if j == 3 :\n",
    "                print(j)\n",
    "    if type(i) == dict :\n",
    "        for k,v in i.items():\n",
    "            if k == 3 or v == 3 :\n",
    "                print(k)\n",
    "                print(v)\n",
    "                "
   ]
  },
  {
   "cell_type": "code",
   "execution_count": null,
   "id": "c4ca9fab",
   "metadata": {},
   "outputs": [],
   "source": [
    "q1\n",
    "to print \n",
    "ineooun\n",
    "ineooun ineooun\n",
    "ineooun ineooun ineooun"
   ]
  },
  {
   "cell_type": "code",
   "execution_count": null,
   "id": "20317fc5",
   "metadata": {},
   "outputs": [],
   "source": [
    "q2\n",
    "       ineooun\n",
    "   ineooun    ineooun\n",
    "ineooun ineooun  ineooun\n",
    "  ineooun      ineooun\n",
    "         ineooun\n",
    "        \n",
    "q3 \n",
    "l = [[1,2,3,4] , (2,3,4,5),(3,4,5,6,7), set([23,4,5,45,45,4,5]),]"
   ]
  }
 ],
 "metadata": {
  "kernelspec": {
   "display_name": "Python 3 (ipykernel)",
   "language": "python",
   "name": "python3"
  },
  "language_info": {
   "codemirror_mode": {
    "name": "ipython",
    "version": 3
   },
   "file_extension": ".py",
   "mimetype": "text/x-python",
   "name": "python",
   "nbconvert_exporter": "python",
   "pygments_lexer": "ipython3",
   "version": "3.9.7"
  }
 },
 "nbformat": 4,
 "nbformat_minor": 5
}
